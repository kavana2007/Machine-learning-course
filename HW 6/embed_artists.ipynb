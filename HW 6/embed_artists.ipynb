{
 "cells": [
  {
   "cell_type": "code",
   "execution_count": null,
   "metadata": {},
   "outputs": [],
   "source": [
    "import gensim\n",
    "from gensim.models import word2vec\n",
    "import logging\n",
    "\n",
    "logging.basicConfig(format='%(asctime)s : %(levelname)s : %(message)s', level=logging.INFO)\n"
   ]
  },
  {
   "cell_type": "code",
   "execution_count": null,
   "metadata": {},
   "outputs": [],
   "source": [
    "playlists = word2vec.LineSentence('playlists.txt')\n",
    "music_model = word2vec.Word2Vec(playlists, size=64, window=100, min_count=10)"
   ]
  },
  {
   "cell_type": "code",
   "execution_count": null,
   "metadata": {},
   "outputs": [],
   "source": [
    "music_model.wv['299']"
   ]
  },
  {
   "cell_type": "code",
   "execution_count": null,
   "metadata": {},
   "outputs": [],
   "source": [
    "artist = [art.strip() for art in open('artists.txt', 'r')]\n",
    "artist[0:10]"
   ]
  },
  {
   "cell_type": "code",
   "execution_count": null,
   "metadata": {},
   "outputs": [],
   "source": [
    "id2name = {}\n",
    "name2id = {}\n",
    "for w in range(len(artist)):\n",
    "    id2name[\"%s\" % w] = artist[w]\n",
    "    name2id[artist[w]] = \"%s\" % w\n",
    "\n",
    "id2name[name2id['Elton John']]"
   ]
  },
  {
   "cell_type": "code",
   "execution_count": null,
   "metadata": {},
   "outputs": [],
   "source": [
    "def similar_artists(model, artist, n=5):\n",
    "    id = name2id[artist]\n",
    "    out = model.wv.most_similar(id, topn=n)\n",
    "\n",
    "    print(\"artists similar to '%s'\\n\" % artist)\n",
    "    for i in range(n) :\n",
    "        name = id2name[out[i][0]]\n",
    "        print(\"\\t%s\" % name)\n",
    "        \n",
    "similar_artists(music_model, 'Aerosmith')"
   ]
  },
  {
   "cell_type": "code",
   "execution_count": null,
   "metadata": {},
   "outputs": [],
   "source": [
    "%matplotlib inline\n",
    "import numpy as np\n",
    "import matplotlib.pyplot as plt\n",
    "from sklearn.manifold import TSNE\n",
    "\n",
    "\n",
    "# this functions computes and displays the 2-d t-SNE maps for a subset of the embedding vectors\n",
    "# and displays them together with the points for a set of input words.\n",
    "\n",
    "def display_tsne_artists(model, artists, nsample=1000, size1=2, size2=10, offset=5):\n",
    "    \n",
    "    arr = np.empty((0,64), dtype='f')\n",
    "\n",
    "    # add the vector for each of the closest words to the array\n",
    "    for a in range(len(artists)):\n",
    "        id = name2id[artists[a]]\n",
    "        arr = np.append(arr, np.array([model[id]]), axis=0)\n",
    "\n",
    "    voc = [w for w in model.wv.vocab]\n",
    "    ids = np.random.choice(range(len(voc)), size=nsample, replace=False)\n",
    "    for w in ids:\n",
    "        wrd_vector = model[voc[w]]\n",
    "        arr = np.append(arr, np.array([wrd_vector]), axis=0)\n",
    "        \n",
    "    # find tsne coords for 2 dimensions\n",
    "    tsne = TSNE(n_components=2, random_state=0)\n",
    "    np.set_printoptions(suppress=True)\n",
    "    Y = tsne.fit_transform(arr)\n",
    "\n",
    "    x_coord = Y[:, 0]\n",
    "    y_coord = Y[:, 1]\n",
    "    # display scatter plot\n",
    "    size=2\n",
    "    plt.scatter(x_coord, y_coord, s=size1)\n",
    "    plt.scatter(x_coord[0:len(artists)], y_coord[0:len(artists)],s=size2)\n",
    "    \n",
    "    # label the input words\n",
    "    for w in range(len(artists)):\n",
    "        plt.annotate(artists[w], xy=(x_coord[w],y_coord[w]), \\\n",
    "                     xytext=(w*offset,w*offset), textcoords='offset points')\n",
    "    plt.show()\n",
    "\n"
   ]
  },
  {
   "cell_type": "code",
   "execution_count": null,
   "metadata": {
    "scrolled": true
   },
   "outputs": [],
   "source": [
    "display_tsne_artists(music_model, ['The Temptations', 'The Supremes'])\n"
   ]
  }
 ],
 "metadata": {
  "kernelspec": {
   "display_name": "Python 3",
   "language": "python",
   "name": "python3"
  },
  "language_info": {
   "codemirror_mode": {
    "name": "ipython",
    "version": 3
   },
   "file_extension": ".py",
   "mimetype": "text/x-python",
   "name": "python",
   "nbconvert_exporter": "python",
   "pygments_lexer": "ipython3",
   "version": "3.7.3"
  }
 },
 "nbformat": 4,
 "nbformat_minor": 2
}
