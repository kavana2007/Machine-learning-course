{
 "cells": [
  {
   "cell_type": "code",
   "execution_count": 4,
   "metadata": {},
   "outputs": [],
   "source": [
    "import numpy as np\n",
    "import pandas as pd\n",
    "import matplotlib.pyplot as plt\n",
    "import statsmodels.api as sm"
   ]
  },
  {
   "cell_type": "markdown",
   "metadata": {},
   "source": [
    "# Initial Data Exploration"
   ]
  },
  {
   "cell_type": "code",
   "execution_count": 7,
   "metadata": {},
   "outputs": [
    {
     "data": {
      "text/plain": [
       "Index(['Unnamed: 0', 'crim', 'zn', 'indus', 'chas', 'nox', 'rm', 'age', 'dis',\n",
       "       'rad', 'tax', 'ptratio', 'black', 'lstat', 'medv'],\n",
       "      dtype='object')"
      ]
     },
     "execution_count": 7,
     "metadata": {},
     "output_type": "execute_result"
    }
   ],
   "source": [
    "#What are the variables in the Boston Housing dataset?\n",
    "Boston = pd.read_csv(\"Boston.csv\")\n",
    "Boston.columns"
   ]
  },
  {
   "cell_type": "code",
   "execution_count": 8,
   "metadata": {},
   "outputs": [
    {
     "data": {
      "text/plain": [
       "(506, 15)"
      ]
     },
     "execution_count": 8,
     "metadata": {},
     "output_type": "execute_result"
    }
   ],
   "source": [
    "#How many observations and variables are there in this dataset?\n",
    "Boston.shape"
   ]
  },
  {
   "cell_type": "markdown",
   "metadata": {},
   "source": [
    "### Below is a description of each of the variables\n",
    "\n",
    "crim : per capita crime rate by town.\n",
    "\n",
    "zn : proportion of residential land zoned for lots over 25,000 sq.ft.\n",
    "\n",
    "indus : proportion of non-retail business acres per town.\n",
    "\n",
    "chas : Charles River dummy variable (= 1 if tract bounds river; 0 otherwise).\n",
    "\n",
    "nox : nitrogen oxides concentration (parts per 10 million).\n",
    "\n",
    "rm : average number of rooms per dwelling.\n",
    "\n",
    "age : proportion of owner-occupied units built prior to 1940.\n",
    "\n",
    "dis : weighted mean of distances to five Boston employment centres.\n",
    "\n",
    "rad : index of accessibility to radial highways.\n",
    "\n",
    "tax : full-value property-tax rate per \\$10,000.\n",
    "\n",
    "ptratio : pupil-teacher ratio by town.\n",
    "\n",
    "black : 1000(Bk - 0.63)^2 where Bk is the proportion of blacks by town.\n",
    "\n",
    "lstat : lower status of the population (percent).\n",
    "\n",
    "medv : median value of owner-occupied homes in \\$1000s."
   ]
  },
  {
   "cell_type": "markdown",
   "metadata": {},
   "source": [
    "### Do any of the variables have obvious outliers or strong skew?"
   ]
  },
  {
   "cell_type": "code",
   "execution_count": 9,
   "metadata": {},
   "outputs": [
    {
     "data": {
      "image/png": "[encoded data removed]",
      "text/plain": [
       "<Figure size 432x288 with 1 Axes>"
      ]
     },
     "metadata": {
      "needs_background": "light"
     },
     "output_type": "display_data"
    }
   ],
   "source": [
    "plt.hist(Boston.crim.values, bins=50)\n",
    "plt.show()"
   ]
  },
  {
   "cell_type": "code",
   "execution_count": 10,
   "metadata": {},
   "outputs": [
    {
     "data": {
      "image/png": "[encoded data removed]",
      "text/plain": [
       "<Figure size 432x288 with 1 Axes>"
      ]
     },
     "metadata": {
      "needs_background": "light"
     },
     "output_type": "display_data"
    }
   ],
   "source": [
    "plt.hist(Boston.zn.values, bins=50)\n",
    "plt.show()"
   ]
  },
  {
   "cell_type": "code",
   "execution_count": 11,
   "metadata": {},
   "outputs": [
    {
     "data": {
      "image/png": "[encoded data removed]",
      "text/plain": [
       "<Figure size 432x288 with 1 Axes>"
      ]
     },
     "metadata": {
      "needs_background": "light"
     },
     "output_type": "display_data"
    }
   ],
   "source": [
    "plt.hist(Boston.black.values, bins=50)\n",
    "plt.show()"
   ]
  },
  {
   "cell_type": "markdown",
   "metadata": {},
   "source": [
    "It looks like crim, zn, and black are all strongly skewed, while all other variables do not appear to have any obvious outliers or extreme skew (check for yourself though).\n",
    "\n",
    "For these three variables, we will transform them using the logarithm, remove the original version from the dataframe, and add in the transformed variables with the same name."
   ]
  },
  {
   "cell_type": "code",
   "execution_count": 12,
   "metadata": {},
   "outputs": [],
   "source": [
    "Boston[\"crim\"] = np.log(1 + Boston.crim.values)\n",
    "Boston[\"zn\"] = np.log(1 + Boston.zn.values)\n",
    "Boston[\"black\"] = np.log(400 - Boston.black.values)"
   ]
  },
  {
   "cell_type": "markdown",
   "metadata": {},
   "source": [
    "# Model Selection\n",
    "\n",
    "Here we wish to model the median value of homes (medv) as a function of all other variables. Furthermore, we want to find the simplest model that has the fewest number of variables in it.\n",
    "\n",
    "To compare models we will use Mallow's $C_{p}$ defined as follows:\n",
    "\n",
    "$$C_{p} = \\dfrac{1}{n} \\left( RSS + 2 p \\hat{\\sigma}^{2} \\right)$$\n",
    "\n",
    "where $RSS$ is the residual sum of squares, $p$ is the number of fit parameters, and $\\hat{\\sigma}$ is an estimate of the standard deviation of the noise. Here we will use $\\hat{\\sigma}^{2} = \\dfrac{\\sum\\limits_{i=1}^{n} \\left( Y_{i} - \\hat{Y}_{i} \\right)^{2}}{n - p}$."
   ]
  },
  {
   "cell_type": "markdown",
   "metadata": {},
   "source": [
    "### Forward Stepwise Selection"
   ]
  },
  {
   "cell_type": "code",
   "execution_count": 13,
   "metadata": {},
   "outputs": [
    {
     "name": "stderr",
     "output_type": "stream",
     "text": [
      "C:\\Users\\kavan\\Anaconda3\\lib\\site-packages\\numpy\\core\\fromnumeric.py:2389: FutureWarning: Method .ptp is deprecated and will be removed in a future version. Use numpy.ptp instead.\n",
      "  return ptp(axis=axis, out=out, **kwargs)\n"
     ]
    }
   ],
   "source": [
    "variables = Boston.columns.drop([\"medv\"])\n",
    "modelvars = []\n",
    "nullmdl = sm.OLS(Boston[\"medv\"], sm.add_constant(Boston[modelvars])).fit()\n",
    "rss = np.sum((Boston.medv.values - nullmdl.fittedvalues)**2)\n",
    "cp = (rss + 2*(len(modelvars)+1)*rss/(len(Boston.medv.values) - (len(modelvars)+1)))/len(Boston.medv.values)\n",
    "decreasing = True\n",
    "while decreasing:\n",
    "    cps = []\n",
    "    for var in variables:\n",
    "        mdl = sm.OLS(Boston[\"medv\"], sm.add_constant(Boston[modelvars + [var]])).fit()\n",
    "        rss = np.sum((Boston.medv.values - mdl.fittedvalues)**2)\n",
    "        cps.append((rss + 2*(len(modelvars)+2)*rss/(len(Boston.medv.values) - (len(modelvars)+2)))/len(Boston.medv.values))\n",
    "    best = np.argmin(cps)\n",
    "    if cps[best] < cp:\n",
    "        modelvars.append(variables[best])\n",
    "        variables.drop([variables[best]])\n",
    "        cp = cps[best]\n",
    "    else:\n",
    "        decreasing = False"
   ]
  },
  {
   "cell_type": "code",
   "execution_count": 14,
   "metadata": {},
   "outputs": [
    {
     "data": {
      "text/plain": [
       "['lstat', 'rm', 'ptratio', 'dis', 'nox', 'chas', 'zn']"
      ]
     },
     "execution_count": 14,
     "metadata": {},
     "output_type": "execute_result"
    }
   ],
   "source": [
    "#Which variables were selected as the best for this linear model through forward selection\n",
    "modelvars"
   ]
  },
  {
   "cell_type": "code",
   "execution_count": 15,
   "metadata": {},
   "outputs": [
    {
     "data": {
      "text/html": [
       "<table class=\"simpletable\">\n",
       "<caption>OLS Regression Results</caption>\n",
       "<tr>\n",
       "  <th>Dep. Variable:</th>          <td>medv</td>       <th>  R-squared:         </th> <td>   0.718</td> \n",
       "</tr>\n",
       "<tr>\n",
       "  <th>Model:</th>                   <td>OLS</td>       <th>  Adj. R-squared:    </th> <td>   0.714</td> \n",
       "</tr>\n",
       "<tr>\n",
       "  <th>Method:</th>             <td>Least Squares</td>  <th>  F-statistic:       </th> <td>   181.5</td> \n",
       "</tr>\n",
       "<tr>\n",
       "  <th>Date:</th>             <td>Sat, 21 Sep 2019</td> <th>  Prob (F-statistic):</th> <td>1.23e-132</td>\n",
       "</tr>\n",
       "<tr>\n",
       "  <th>Time:</th>                 <td>13:22:46</td>     <th>  Log-Likelihood:    </th> <td> -1519.7</td> \n",
       "</tr>\n",
       "<tr>\n",
       "  <th>No. Observations:</th>      <td>   506</td>      <th>  AIC:               </th> <td>   3055.</td> \n",
       "</tr>\n",
       "<tr>\n",
       "  <th>Df Residuals:</th>          <td>   498</td>      <th>  BIC:               </th> <td>   3089.</td> \n",
       "</tr>\n",
       "<tr>\n",
       "  <th>Df Model:</th>              <td>     7</td>      <th>                     </th>     <td> </td>    \n",
       "</tr>\n",
       "<tr>\n",
       "  <th>Covariance Type:</th>      <td>nonrobust</td>    <th>                     </th>     <td> </td>    \n",
       "</tr>\n",
       "</table>\n",
       "<table class=\"simpletable\">\n",
       "<tr>\n",
       "     <td></td>        <th>coef</th>     <th>std err</th>      <th>t</th>      <th>P>|t|</th>  <th>[0.025</th>    <th>0.975]</th>  \n",
       "</tr>\n",
       "<tr>\n",
       "  <th>const</th>   <td>   36.5391</td> <td>    4.546</td> <td>    8.037</td> <td> 0.000</td> <td>   27.607</td> <td>   45.471</td>\n",
       "</tr>\n",
       "<tr>\n",
       "  <th>lstat</th>   <td>   -0.5776</td> <td>    0.047</td> <td>  -12.180</td> <td> 0.000</td> <td>   -0.671</td> <td>   -0.484</td>\n",
       "</tr>\n",
       "<tr>\n",
       "  <th>rm</th>      <td>    3.9567</td> <td>    0.412</td> <td>    9.599</td> <td> 0.000</td> <td>    3.147</td> <td>    4.767</td>\n",
       "</tr>\n",
       "<tr>\n",
       "  <th>ptratio</th> <td>   -0.9063</td> <td>    0.121</td> <td>   -7.488</td> <td> 0.000</td> <td>   -1.144</td> <td>   -0.669</td>\n",
       "</tr>\n",
       "<tr>\n",
       "  <th>dis</th>     <td>   -1.3580</td> <td>    0.194</td> <td>   -7.009</td> <td> 0.000</td> <td>   -1.739</td> <td>   -0.977</td>\n",
       "</tr>\n",
       "<tr>\n",
       "  <th>nox</th>     <td>  -18.6435</td> <td>    3.216</td> <td>   -5.797</td> <td> 0.000</td> <td>  -24.962</td> <td>  -12.325</td>\n",
       "</tr>\n",
       "<tr>\n",
       "  <th>chas</th>    <td>    3.3105</td> <td>    0.881</td> <td>    3.759</td> <td> 0.000</td> <td>    1.580</td> <td>    5.041</td>\n",
       "</tr>\n",
       "<tr>\n",
       "  <th>zn</th>      <td>    0.4485</td> <td>    0.210</td> <td>    2.140</td> <td> 0.033</td> <td>    0.037</td> <td>    0.860</td>\n",
       "</tr>\n",
       "</table>\n",
       "<table class=\"simpletable\">\n",
       "<tr>\n",
       "  <th>Omnibus:</th>       <td>166.913</td> <th>  Durbin-Watson:     </th> <td>   1.062</td> \n",
       "</tr>\n",
       "<tr>\n",
       "  <th>Prob(Omnibus):</th> <td> 0.000</td>  <th>  Jarque-Bera (JB):  </th> <td> 694.132</td> \n",
       "</tr>\n",
       "<tr>\n",
       "  <th>Skew:</th>          <td> 1.436</td>  <th>  Prob(JB):          </th> <td>1.87e-151</td>\n",
       "</tr>\n",
       "<tr>\n",
       "  <th>Kurtosis:</th>      <td> 7.968</td>  <th>  Cond. No.          </th> <td>    546.</td> \n",
       "</tr>\n",
       "</table><br/><br/>Warnings:<br/>[1] Standard Errors assume that the covariance matrix of the errors is correctly specified."
      ],
      "text/plain": [
       "<class 'statsmodels.iolib.summary.Summary'>\n",
       "\"\"\"\n",
       "                            OLS Regression Results                            \n",
       "==============================================================================\n",
       "Dep. Variable:                   medv   R-squared:                       0.718\n",
       "Model:                            OLS   Adj. R-squared:                  0.714\n",
       "Method:                 Least Squares   F-statistic:                     181.5\n",
       "Date:                Sat, 21 Sep 2019   Prob (F-statistic):          1.23e-132\n",
       "Time:                        13:22:46   Log-Likelihood:                -1519.7\n",
       "No. Observations:                 506   AIC:                             3055.\n",
       "Df Residuals:                     498   BIC:                             3089.\n",
       "Df Model:                           7                                         \n",
       "Covariance Type:            nonrobust                                         \n",
       "==============================================================================\n",
       "                 coef    std err          t      P>|t|      [0.025      0.975]\n",
       "------------------------------------------------------------------------------\n",
       "const         36.5391      4.546      8.037      0.000      27.607      45.471\n",
       "lstat         -0.5776      0.047    -12.180      0.000      -0.671      -0.484\n",
       "rm             3.9567      0.412      9.599      0.000       3.147       4.767\n",
       "ptratio       -0.9063      0.121     -7.488      0.000      -1.144      -0.669\n",
       "dis           -1.3580      0.194     -7.009      0.000      -1.739      -0.977\n",
       "nox          -18.6435      3.216     -5.797      0.000     -24.962     -12.325\n",
       "chas           3.3105      0.881      3.759      0.000       1.580       5.041\n",
       "zn             0.4485      0.210      2.140      0.033       0.037       0.860\n",
       "==============================================================================\n",
       "Omnibus:                      166.913   Durbin-Watson:                   1.062\n",
       "Prob(Omnibus):                  0.000   Jarque-Bera (JB):              694.132\n",
       "Skew:                           1.436   Prob(JB):                    1.87e-151\n",
       "Kurtosis:                       7.968   Cond. No.                         546.\n",
       "==============================================================================\n",
       "\n",
       "Warnings:\n",
       "[1] Standard Errors assume that the covariance matrix of the errors is correctly specified.\n",
       "\"\"\""
      ]
     },
     "execution_count": 15,
     "metadata": {},
     "output_type": "execute_result"
    }
   ],
   "source": [
    "#What does the final model look like\n",
    "finalmdl = sm.OLS(Boston[\"medv\"], sm.add_constant(Boston[modelvars])).fit()\n",
    "finalmdl.summary()"
   ]
  },
  {
   "cell_type": "markdown",
   "metadata": {},
   "source": [
    "### Backward Stepwise Selection"
   ]
  },
  {
   "cell_type": "code",
   "execution_count": 16,
   "metadata": {},
   "outputs": [],
   "source": [
    "modelvars2 = Boston.columns.drop([\"medv\"])\n",
    "fullmdl = sm.OLS(Boston[\"medv\"], sm.add_constant(Boston[modelvars2])).fit()\n",
    "rss = np.sum((Boston.medv.values - fullmdl.fittedvalues)**2)\n",
    "cp = (rss + 2*(len(modelvars2)+1)*rss/(len(Boston.medv.values) - (len(modelvars2)+1)))/len(Boston.medv.values)\n",
    "decreasing = True\n",
    "while decreasing:\n",
    "    cps = []\n",
    "    for var in modelvars2:\n",
    "        tempmodelvars2 = list(modelvars2)\n",
    "        tempmodelvars2.remove(var)\n",
    "        mdl = sm.OLS(Boston[\"medv\"], sm.add_constant(Boston[tempmodelvars2])).fit()\n",
    "        rss = np.sum((Boston.medv.values - mdl.fittedvalues)**2)\n",
    "        cps.append((rss + 2*(len(tempmodelvars2)+1)*rss/(len(Boston.medv.values) - (len(tempmodelvars2)+1)))/len(Boston.medv.values))\n",
    "    best = np.argmin(cps)\n",
    "    if cps[best] < cp:\n",
    "        modelvars2 = modelvars2.drop(modelvars2[best])\n",
    "        cp = cps[best]\n",
    "    else:\n",
    "        decreasing = False"
   ]
  },
  {
   "cell_type": "code",
   "execution_count": 17,
   "metadata": {},
   "outputs": [
    {
     "data": {
      "text/plain": [
       "Index(['crim', 'zn', 'chas', 'nox', 'rm', 'dis', 'rad', 'tax', 'ptratio',\n",
       "       'lstat'],\n",
       "      dtype='object')"
      ]
     },
     "execution_count": 17,
     "metadata": {},
     "output_type": "execute_result"
    }
   ],
   "source": [
    "#What variables were selected by now using backward selection?\n",
    "modelvars2"
   ]
  },
  {
   "cell_type": "code",
   "execution_count": 18,
   "metadata": {},
   "outputs": [
    {
     "data": {
      "text/html": [
       "<table class=\"simpletable\">\n",
       "<caption>OLS Regression Results</caption>\n",
       "<tr>\n",
       "  <th>Dep. Variable:</th>          <td>medv</td>       <th>  R-squared:         </th> <td>   0.726</td> \n",
       "</tr>\n",
       "<tr>\n",
       "  <th>Model:</th>                   <td>OLS</td>       <th>  Adj. R-squared:    </th> <td>   0.721</td> \n",
       "</tr>\n",
       "<tr>\n",
       "  <th>Method:</th>             <td>Least Squares</td>  <th>  F-statistic:       </th> <td>   131.3</td> \n",
       "</tr>\n",
       "<tr>\n",
       "  <th>Date:</th>             <td>Sat, 21 Sep 2019</td> <th>  Prob (F-statistic):</th> <td>2.67e-132</td>\n",
       "</tr>\n",
       "<tr>\n",
       "  <th>Time:</th>                 <td>13:23:34</td>     <th>  Log-Likelihood:    </th> <td> -1512.5</td> \n",
       "</tr>\n",
       "<tr>\n",
       "  <th>No. Observations:</th>      <td>   506</td>      <th>  AIC:               </th> <td>   3047.</td> \n",
       "</tr>\n",
       "<tr>\n",
       "  <th>Df Residuals:</th>          <td>   495</td>      <th>  BIC:               </th> <td>   3094.</td> \n",
       "</tr>\n",
       "<tr>\n",
       "  <th>Df Model:</th>              <td>    10</td>      <th>                     </th>     <td> </td>    \n",
       "</tr>\n",
       "<tr>\n",
       "  <th>Covariance Type:</th>      <td>nonrobust</td>    <th>                     </th>     <td> </td>    \n",
       "</tr>\n",
       "</table>\n",
       "<table class=\"simpletable\">\n",
       "<tr>\n",
       "     <td></td>        <th>coef</th>     <th>std err</th>      <th>t</th>      <th>P>|t|</th>  <th>[0.025</th>    <th>0.975]</th>  \n",
       "</tr>\n",
       "<tr>\n",
       "  <th>const</th>   <td>   39.9833</td> <td>    5.007</td> <td>    7.986</td> <td> 0.000</td> <td>   30.146</td> <td>   49.820</td>\n",
       "</tr>\n",
       "<tr>\n",
       "  <th>crim</th>    <td>   -1.1304</td> <td>    0.598</td> <td>   -1.892</td> <td> 0.059</td> <td>   -2.305</td> <td>    0.044</td>\n",
       "</tr>\n",
       "<tr>\n",
       "  <th>zn</th>      <td>    0.4379</td> <td>    0.212</td> <td>    2.065</td> <td> 0.039</td> <td>    0.021</td> <td>    0.854</td>\n",
       "</tr>\n",
       "<tr>\n",
       "  <th>chas</th>    <td>    2.9796</td> <td>    0.876</td> <td>    3.400</td> <td> 0.001</td> <td>    1.258</td> <td>    4.701</td>\n",
       "</tr>\n",
       "<tr>\n",
       "  <th>nox</th>     <td>  -16.6063</td> <td>    3.665</td> <td>   -4.531</td> <td> 0.000</td> <td>  -23.807</td> <td>   -9.405</td>\n",
       "</tr>\n",
       "<tr>\n",
       "  <th>rm</th>      <td>    3.7499</td> <td>    0.415</td> <td>    9.036</td> <td> 0.000</td> <td>    2.935</td> <td>    4.565</td>\n",
       "</tr>\n",
       "<tr>\n",
       "  <th>dis</th>     <td>   -1.3911</td> <td>    0.193</td> <td>   -7.210</td> <td> 0.000</td> <td>   -1.770</td> <td>   -1.012</td>\n",
       "</tr>\n",
       "<tr>\n",
       "  <th>rad</th>     <td>    0.2912</td> <td>    0.080</td> <td>    3.621</td> <td> 0.000</td> <td>    0.133</td> <td>    0.449</td>\n",
       "</tr>\n",
       "<tr>\n",
       "  <th>tax</th>     <td>   -0.0102</td> <td>    0.003</td> <td>   -2.989</td> <td> 0.003</td> <td>   -0.017</td> <td>   -0.003</td>\n",
       "</tr>\n",
       "<tr>\n",
       "  <th>ptratio</th> <td>   -0.9678</td> <td>    0.138</td> <td>   -7.027</td> <td> 0.000</td> <td>   -1.238</td> <td>   -0.697</td>\n",
       "</tr>\n",
       "<tr>\n",
       "  <th>lstat</th>   <td>   -0.5537</td> <td>    0.049</td> <td>  -11.226</td> <td> 0.000</td> <td>   -0.651</td> <td>   -0.457</td>\n",
       "</tr>\n",
       "</table>\n",
       "<table class=\"simpletable\">\n",
       "<tr>\n",
       "  <th>Omnibus:</th>       <td>174.200</td> <th>  Durbin-Watson:     </th> <td>   1.046</td> \n",
       "</tr>\n",
       "<tr>\n",
       "  <th>Prob(Omnibus):</th> <td> 0.000</td>  <th>  Jarque-Bera (JB):  </th> <td> 735.625</td> \n",
       "</tr>\n",
       "<tr>\n",
       "  <th>Skew:</th>          <td> 1.500</td>  <th>  Prob(JB):          </th> <td>1.82e-160</td>\n",
       "</tr>\n",
       "<tr>\n",
       "  <th>Kurtosis:</th>      <td> 8.089</td>  <th>  Cond. No.          </th> <td>1.14e+04</td> \n",
       "</tr>\n",
       "</table><br/><br/>Warnings:<br/>[1] Standard Errors assume that the covariance matrix of the errors is correctly specified.<br/>[2] The condition number is large, 1.14e+04. This might indicate that there are<br/>strong multicollinearity or other numerical problems."
      ],
      "text/plain": [
       "<class 'statsmodels.iolib.summary.Summary'>\n",
       "\"\"\"\n",
       "                            OLS Regression Results                            \n",
       "==============================================================================\n",
       "Dep. Variable:                   medv   R-squared:                       0.726\n",
       "Model:                            OLS   Adj. R-squared:                  0.721\n",
       "Method:                 Least Squares   F-statistic:                     131.3\n",
       "Date:                Sat, 21 Sep 2019   Prob (F-statistic):          2.67e-132\n",
       "Time:                        13:23:34   Log-Likelihood:                -1512.5\n",
       "No. Observations:                 506   AIC:                             3047.\n",
       "Df Residuals:                     495   BIC:                             3094.\n",
       "Df Model:                          10                                         \n",
       "Covariance Type:            nonrobust                                         \n",
       "==============================================================================\n",
       "                 coef    std err          t      P>|t|      [0.025      0.975]\n",
       "------------------------------------------------------------------------------\n",
       "const         39.9833      5.007      7.986      0.000      30.146      49.820\n",
       "crim          -1.1304      0.598     -1.892      0.059      -2.305       0.044\n",
       "zn             0.4379      0.212      2.065      0.039       0.021       0.854\n",
       "chas           2.9796      0.876      3.400      0.001       1.258       4.701\n",
       "nox          -16.6063      3.665     -4.531      0.000     -23.807      -9.405\n",
       "rm             3.7499      0.415      9.036      0.000       2.935       4.565\n",
       "dis           -1.3911      0.193     -7.210      0.000      -1.770      -1.012\n",
       "rad            0.2912      0.080      3.621      0.000       0.133       0.449\n",
       "tax           -0.0102      0.003     -2.989      0.003      -0.017      -0.003\n",
       "ptratio       -0.9678      0.138     -7.027      0.000      -1.238      -0.697\n",
       "lstat         -0.5537      0.049    -11.226      0.000      -0.651      -0.457\n",
       "==============================================================================\n",
       "Omnibus:                      174.200   Durbin-Watson:                   1.046\n",
       "Prob(Omnibus):                  0.000   Jarque-Bera (JB):              735.625\n",
       "Skew:                           1.500   Prob(JB):                    1.82e-160\n",
       "Kurtosis:                       8.089   Cond. No.                     1.14e+04\n",
       "==============================================================================\n",
       "\n",
       "Warnings:\n",
       "[1] Standard Errors assume that the covariance matrix of the errors is correctly specified.\n",
       "[2] The condition number is large, 1.14e+04. This might indicate that there are\n",
       "strong multicollinearity or other numerical problems.\n",
       "\"\"\""
      ]
     },
     "execution_count": 18,
     "metadata": {},
     "output_type": "execute_result"
    }
   ],
   "source": [
    "#What does the new final model look like?\n",
    "finalmdl2 = sm.OLS(Boston[\"medv\"], sm.add_constant(Boston[modelvars2])).fit()\n",
    "finalmdl2.summary()"
   ]
  },
  {
   "cell_type": "code",
   "execution_count": null,
   "metadata": {
    "collapsed": true
   },
   "outputs": [],
   "source": []
  }
 ],
 "metadata": {
  "kernelspec": {
   "display_name": "Python 3",
   "language": "python",
   "name": "python3"
  },
  "language_info": {
   "codemirror_mode": {
    "name": "ipython",
    "version": 3
   },
   "file_extension": ".py",
   "mimetype": "text/x-python",
   "name": "python",
   "nbconvert_exporter": "python",
   "pygments_lexer": "ipython3",
   "version": "3.7.3"
  }
 },
 "nbformat": 4,
 "nbformat_minor": 2
}
