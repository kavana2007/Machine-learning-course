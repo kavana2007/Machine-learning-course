{
 "cells": [
  {
   "cell_type": "markdown",
   "metadata": {},
   "source": [
    "# Assignment 3\n",
    "_Due: Midnight on Tuesday October 8, 2019_\n",
    "\n",
    "### NetID: sh2432\n",
    "\n",
    "In this assignment you will gain some experience with decision trees and random forests using two data sets. One is a diabetes data set, where the task is to predict the progression of the disease. The other a data set of real estate listings, where the task is to forecast the sale price of the house.\n",
    "\n",
    "#### Submission Instructions:\n",
    "\n",
    "Please fill out this _starter_ Jupyter Notebook, and submit __both__ this `.ipynb` file as well as a pdf file (via html).\n",
    "\n",
    " - In the notebook interface, choose `File -> Download as -> Notebook (ipynb)`.\n",
    " - In the notebook interface, choose `File -> Download as -> HTML`. Then open the html file, and print to pdf.\n",
    "\n",
    "Notes:\n",
    "\n",
    " - We are using the markdown cell-type for texts (and latex), and the code cell-type for the python code. Make sure you don't mix these up. You can change the type from the dropdown at the toolbar on the top.\n",
    " "
   ]
  },
  {
   "cell_type": "code",
   "execution_count": 9,
   "metadata": {},
   "outputs": [],
   "source": [
    "import numpy as np\n",
    "import matplotlib.pyplot as plt"
   ]
  },
  {
   "cell_type": "markdown",
   "metadata": {},
   "source": [
    "## Question 1: Regression trees vs. random forests (20 pts)\n",
    "\n",
    "This problem is based on the `diabetes` dataset from the `sklearn` package. Please read about the dataset at [https://scikit-learn.org/stable/datasets/index.html#diabetes-dataset](https://scikit-learn.org/stable/datasets/index.html#diabetes-dataset). We will seek to predict the response, which is a quantitative measure of diabetes progression one year after baseline, using regression trees and random forests.\n",
    "\n",
    "The following cell imports the dataset as `diabetes` and names the predictor variables `diabetes_x` and the response `diabetes_y`. The names of the six predictor variables are also printed. For a more detailed description, use the `.DESCR` aspect of `diabetes`."
   ]
  },
  {
   "cell_type": "code",
   "execution_count": 50,
   "metadata": {},
   "outputs": [
    {
     "name": "stdout",
     "output_type": "stream",
     "text": [
      "['age', 'sex', 'bmi', 'bp', 's1', 's2', 's3', 's4', 's5', 's6']\n"
     ]
    }
   ],
   "source": [
    "from sklearn import datasets\n",
    "diabetes = datasets.load_diabetes()\n",
    "diabetes_x = diabetes.data\n",
    "diabetes_y = diabetes.target\n",
    "print(diabetes.feature_names)"
   ]
  },
  {
   "cell_type": "code",
   "execution_count": 51,
   "metadata": {},
   "outputs": [
    {
     "data": {
      "text/plain": [
       "'.. _diabetes_dataset:\\n\\nDiabetes dataset\\n----------------\\n\\nTen baseline variables, age, sex, body mass index, average blood\\npressure, and six blood serum measurements were obtained for each of n =\\n442 diabetes patients, as well as the response of interest, a\\nquantitative measure of disease progression one year after baseline.\\n\\n**Data Set Characteristics:**\\n\\n  :Number of Instances: 442\\n\\n  :Number of Attributes: First 10 columns are numeric predictive values\\n\\n  :Target: Column 11 is a quantitative measure of disease progression one year after baseline\\n\\n  :Attribute Information:\\n      - Age\\n      - Sex\\n      - Body mass index\\n      - Average blood pressure\\n      - S1\\n      - S2\\n      - S3\\n      - S4\\n      - S5\\n      - S6\\n\\nNote: Each of these 10 feature variables have been mean centered and scaled by the standard deviation times `n_samples` (i.e. the sum of squares of each column totals 1).\\n\\nSource URL:\\nhttps://www4.stat.ncsu.edu/~boos/var.select/diabetes.html\\n\\nFor more information see:\\nBradley Efron, Trevor Hastie, Iain Johnstone and Robert Tibshirani (2004) \"Least Angle Regression,\" Annals of Statistics (with discussion), 407-499.\\n(https://web.stanford.edu/~hastie/Papers/LARS/LeastAngle_2002.pdf)'"
      ]
     },
     "execution_count": 51,
     "metadata": {},
     "output_type": "execute_result"
    }
   ],
   "source": [
    "diabetes.DESCR"
   ]
  },
  {
   "cell_type": "markdown",
   "metadata": {},
   "source": [
    "### Part (a): Building a Simple Regression Tree\n",
    "\n",
    "To start we will manually build a regression tree using only two of the predictor variables: `bmi` and `s5`. To keep things simple, build a tree that has exactly three nodes and four leaves. (i.e. the data is split into two parts initially and then each of those parts is again split one more time.) At each node you will need to evaluate each possible splitting point for both `bmi` and `s5` and pick the one that minimizes the RSS.\n",
    "\n",
    "When you have built the regression tree, create a scatter plot of `s5` versus `bmi`, color-coded by the response variable. In this plot, use vertical and horizontal lines to indicate the regions that your tree splits the data into. You may find the functions `plt.hlines()` and `plt.vlines()` to be useful."
   ]
  },
  {
   "cell_type": "code",
   "execution_count": 52,
   "metadata": {},
   "outputs": [],
   "source": [
    "bmi = diabetes_x[:,2]\n",
    "s5 = diabetes_x[:,8]\n",
    "rss_bmi1 = []\n",
    "rss_s51 = []\n",
    "\n",
    "# we put a wrapper on the np.mean function to avoid warnings from taking the average of an empty list\n",
    "def average(x):\n",
    "    if len(x) == 0:\n",
    "        return(0.0)\n",
    "    else:\n",
    "        return(np.mean(x))\n",
    "\n",
    "# the following starter code finds the best splits for bmi and bp at the root\n",
    "for i in range(len(bmi)):\n",
    "    left1 = np.where(bmi <= bmi[i])[0]\n",
    "    right1 = np.where(bmi > bmi[i])[0]\n",
    "    rss_bmi1.append(np.sum((diabetes_y[left1] - average(diabetes_y[left1]))**2) + \n",
    "                   np.sum((diabetes_y[right1] - average(diabetes_y[right1]))**2))\n",
    "    left1 = np.where(s5 <= s5[i])[0]\n",
    "    right1 = np.where(s5 > s5[i])[0]\n",
    "    rss_s51.append(np.sum((diabetes_y[left1] - average(diabetes_y[left1]))**2) + \n",
    "                  np.sum((diabetes_y[right1] - average(diabetes_y[right1]))**2))\n",
    "#find the min RSS cut point for bmi and s5\n",
    "best_bmi_cut1 = np.argmin(rss_bmi1)\n",
    "best_s5_cut1 = np.argmin(rss_s51)"
   ]
  },
  {
   "cell_type": "code",
   "execution_count": 53,
   "metadata": {},
   "outputs": [
    {
     "data": {
      "text/plain": [
       "271"
      ]
     },
     "execution_count": 53,
     "metadata": {},
     "output_type": "execute_result"
    }
   ],
   "source": [
    "best_bmi_cut1"
   ]
  },
  {
   "cell_type": "code",
   "execution_count": 54,
   "metadata": {},
   "outputs": [
    {
     "data": {
      "text/plain": [
       "252"
      ]
     },
     "execution_count": 54,
     "metadata": {},
     "output_type": "execute_result"
    }
   ],
   "source": [
    "best_s5_cut1"
   ]
  },
  {
   "cell_type": "code",
   "execution_count": 55,
   "metadata": {},
   "outputs": [],
   "source": [
    "#model 1\n",
    "rss_s52_left= []\n",
    "rss_s52_right= []\n",
    "#bmi as node1, separate bmi\n",
    "left2 = np.where(bmi <= bmi[best_bmi_cut1])[0]\n",
    "right2 = np.where(bmi > bmi[best_bmi_cut1])[0]\n",
    "#s5 as node 2, find the min RSS and the cut point for the left side\n",
    "for j in range(len(left2)):\n",
    "    left3 = np.where(s5[left2] <= s5[left2][j])[0]\n",
    "    right3 = np.where(s5[left2]  > s5[left2][j])[0]\n",
    "    rss_s52_left.append(np.sum((diabetes_y[left3] - average(diabetes_y[left3]))**2) + \n",
    "                  np.sum((diabetes_y[right3] - average(diabetes_y[right3]))**2))\n",
    "\n",
    "#s5 as node 2, find the min RSS and the cut point for the right side\n",
    "for j in range(len(right2)):\n",
    "    left3 = np.where(s5[right2] <= s5[right2][j])[0]\n",
    "    right3 = np.where(s5[right2]  > s5[right2][j])[0]\n",
    "    rss_s52_right.append(np.sum((diabetes_y[left3] - average(diabetes_y[left3]))**2) + \n",
    "                  np.sum((diabetes_y[right3] - average(diabetes_y[right3]))**2))\n",
    "\n",
    "best_s5_cut2_left = np.argmin(rss_s52_left)\n",
    "best_s5_cut2_right = np.argmin(rss_s52_right)\n",
    "\n",
    "#calculate total RSS for the model\n",
    "RSS1=min(rss_s52_left)+min(rss_s52_right)"
   ]
  },
  {
   "cell_type": "code",
   "execution_count": 56,
   "metadata": {},
   "outputs": [
    {
     "data": {
      "text/plain": [
       "62"
      ]
     },
     "execution_count": 56,
     "metadata": {},
     "output_type": "execute_result"
    }
   ],
   "source": [
    "best_s5_cut2_left"
   ]
  },
  {
   "cell_type": "code",
   "execution_count": 57,
   "metadata": {},
   "outputs": [
    {
     "data": {
      "text/plain": [
       "81"
      ]
     },
     "execution_count": 57,
     "metadata": {},
     "output_type": "execute_result"
    }
   ],
   "source": [
    "best_s5_cut2_right"
   ]
  },
  {
   "cell_type": "code",
   "execution_count": 58,
   "metadata": {},
   "outputs": [
    {
     "data": {
      "text/plain": [
       "2565517.3304857835"
      ]
     },
     "execution_count": 58,
     "metadata": {},
     "output_type": "execute_result"
    }
   ],
   "source": [
    "RSS1"
   ]
  },
  {
   "cell_type": "code",
   "execution_count": 59,
   "metadata": {},
   "outputs": [],
   "source": [
    "#model 2\n",
    "rss_bmi2_left = []\n",
    "rss_bmi2_right = []\n",
    "#s5 as node1, separate s5\n",
    "left4 = np.where(s5 <= s5[best_s5_cut1])[0]\n",
    "right4 = np.where(s5 > s5[best_s5_cut1])[0]\n",
    "#bmi as node 2, find the min RSS and the cut point for the left\n",
    "for m in range(len(left4)):\n",
    "    left5 = np.where(bmi[left4] <= bmi[left4][m])[0]\n",
    "    right5 = np.where(bmi[left4]  > bmi[left4][m])[0]\n",
    "    rss_bmi2_left.append(np.sum((diabetes_y[left5] - average(diabetes_y[left5]))**2) + \n",
    "                  np.sum((diabetes_y[right5] - average(diabetes_y[right5]))**2))\n",
    "#bmi as node 2, find the min RSS and the cut point for the right\n",
    "for m in range(len(right4)):\n",
    "    left5 = np.where(bmi[right4] <= bmi[right4][m])[0]\n",
    "    right5 = np.where(bmi[right4]  > bmi[right4][m])[0]\n",
    "    rss_bmi2_right.append(np.sum((diabetes_y[left5] - average(diabetes_y[left5]))**2) + \n",
    "                  np.sum((diabetes_y[right5] - average(diabetes_y[right5]))**2))\n",
    "\n",
    "best_bmi5_cut2_left = np.argmin(rss_bmi2_left)\n",
    "best_bmi5_cut2_right = np.argmin(rss_bmi2_right)\n",
    "\n",
    "#calculate total RSS for the model\n",
    "RSS2=min(rss_bmi2_left)+min(rss_bmi2_right)\n",
    "\n",
    "#model 2 has a smaller total RSS, therefore, we should use s5 as node 1, bmi as node2"
   ]
  },
  {
   "cell_type": "code",
   "execution_count": 60,
   "metadata": {},
   "outputs": [
    {
     "data": {
      "text/plain": [
       "-0.084886235529114"
      ]
     },
     "execution_count": 60,
     "metadata": {},
     "output_type": "execute_result"
    }
   ],
   "source": [
    "bmi[left4][best_bmi5_cut2_left]"
   ]
  },
  {
   "cell_type": "code",
   "execution_count": 61,
   "metadata": {},
   "outputs": [
    {
     "data": {
      "text/plain": [
       "176"
      ]
     },
     "execution_count": 61,
     "metadata": {},
     "output_type": "execute_result"
    }
   ],
   "source": [
    "best_bmi5_cut2_left"
   ]
  },
  {
   "cell_type": "code",
   "execution_count": 62,
   "metadata": {},
   "outputs": [
    {
     "data": {
      "text/plain": [
       "-0.0223731352440218"
      ]
     },
     "execution_count": 62,
     "metadata": {},
     "output_type": "execute_result"
    }
   ],
   "source": [
    "bmi[right4][best_bmi5_cut2_right]"
   ]
  },
  {
   "cell_type": "code",
   "execution_count": 63,
   "metadata": {},
   "outputs": [
    {
     "data": {
      "text/plain": [
       "141"
      ]
     },
     "execution_count": 63,
     "metadata": {},
     "output_type": "execute_result"
    }
   ],
   "source": [
    "best_bmi5_cut2_right"
   ]
  },
  {
   "cell_type": "code",
   "execution_count": 64,
   "metadata": {},
   "outputs": [
    {
     "data": {
      "text/plain": [
       "2454029.6263736263"
      ]
     },
     "execution_count": 64,
     "metadata": {},
     "output_type": "execute_result"
    }
   ],
   "source": [
    "RSS2"
   ]
  },
  {
   "cell_type": "code",
   "execution_count": 65,
   "metadata": {},
   "outputs": [
    {
     "data": {
      "text/plain": [
       "-0.00421985970694603"
      ]
     },
     "execution_count": 65,
     "metadata": {},
     "output_type": "execute_result"
    }
   ],
   "source": [
    "s5[best_s5_cut1]"
   ]
  },
  {
   "cell_type": "code",
   "execution_count": 66,
   "metadata": {},
   "outputs": [],
   "source": [
    "#generate 4 leaves\n",
    "leaf1=(s5 <= s5[best_s5_cut1]) & (bmi <= bmi[left4][best_bmi5_cut2_left])\n",
    "leaf2=(s5 <= s5[best_s5_cut1]) & (bmi > bmi[left4][best_bmi5_cut2_left])\n",
    "leaf3=(s5 > s5[best_s5_cut1]) & (bmi <= bmi[right4][best_bmi5_cut2_right])\n",
    "leaf4=(s5 > s5[best_s5_cut1]) & (bmi > bmi[right4][best_bmi5_cut2_right])"
   ]
  },
  {
   "cell_type": "code",
   "execution_count": 67,
   "metadata": {},
   "outputs": [
    {
     "data": {
      "image/png": "[encoded data removed]",
      "text/plain": [
       "<Figure size 432x288 with 1 Axes>"
      ]
     },
     "metadata": {
      "needs_background": "light"
     },
     "output_type": "display_data"
    }
   ],
   "source": [
    "#scatter plot of bmi & s5\n",
    "plt.scatter(bmi[leaf1], s5[leaf1],color='blue')\n",
    "plt.scatter(bmi[leaf2], s5[leaf2],color='brown')\n",
    "plt.scatter(bmi[leaf3], s5[leaf3],color='orange')\n",
    "plt.scatter(bmi[leaf4], s5[leaf4],color='green')\n",
    "plt.hlines(s5[best_s5_cut1],min(bmi),max(bmi),colors='r' )\n",
    "plt.vlines(bmi[left4][best_bmi5_cut2_left], min(s5), s5[best_s5_cut1], colors='r')\n",
    "plt.vlines(bmi[right4][best_bmi5_cut2_right], s5[best_s5_cut1], max(s5),colors='r')\n",
    "plt.xlabel('bmi')\n",
    "plt.ylabel('s5');"
   ]
  },
  {
   "cell_type": "markdown",
   "metadata": {},
   "source": [
    "### Part (b) Fitting a Full Regression Tree\n",
    "\n",
    "Now build a tree that uses all the predictor variables, has a more flexible structure, and is validated with a test set. Split the full dataset into a training set and a test set (50/50). Fit a regression tree to the training set using the function `DecisionTreeRegressor` from `sklearn.tree`. For now, use your best judgment to choose parameters for tree complexity; we will use analytical methods to choose parameters in later parts of this problem set. Some starter code is provided:"
   ]
  },
  {
   "cell_type": "code",
   "execution_count": 193,
   "metadata": {},
   "outputs": [],
   "source": [
    "from sklearn import tree\n",
    "#split data into 50/50\n",
    "from sklearn.model_selection import train_test_split\n",
    "xtrain, xtest, ytrain, ytest = train_test_split(diabetes_x, diabetes_y, test_size=0.50, random_state=42)\n",
    "\n",
    "regr = tree.DecisionTreeRegressor(max_depth=3).fit(xtrain, ytrain) \n",
    "#tree parameters go inside the first set of parenthases and the training data goes in the second set of parenthases\n",
    "    "
   ]
  },
  {
   "cell_type": "markdown",
   "metadata": {},
   "source": [
    "### Part (c) Plotting the Tree\n",
    "\n",
    "Plot your regression tree. To do so, we suggest that you use GraphViz in conjunction with `sklearn.tree.export_graphviz`. Once you install GraphViz, the following cell will plot the tree.\n",
    "\n",
    "Instructions for using GraphViz (Windows):\n",
    "\n",
    "1. Install GraphViz to your computer from the link [https://graphviz.gitlab.io/download/](https://graphviz.gitlab.io/download/).\n",
    "\n",
    "2. Install the Python package using `pip install graphviz` or `conda install graphviz`.\n",
    "\n",
    "3. Set a path to your computer's GraphViz installation (NOT the Python package). You can do so locally in this notebook by running something like `import os; os.environ[\"PATH\"] += os.pathsep + 'C:/Program Files (x86)/Graphviz2.38/bin/'` (substituting in the location of your own GraphViz installation).\n",
    "\n",
    "4. You can now use the functions in the `graphviz` package with `sklearn.tree.export_graphviz`!\n",
    "\n",
    "Instructions for using GraphViz (Mac OS):\n",
    "\n",
    "1. Make sure you have the package manager Homebrew.\n",
    "\n",
    "2. Install GraphViz to your computer using `brew install graphviz`.\n",
    "\n",
    "3. Install the Python package using `pip install graphviz` or `conda install graphviz`.\n",
    "\n",
    "4. You can now use the functions in the `graphviz` package with `sklearn.tree.export_graphviz`! _Note: If you get an ExecutableNotFound error, you might have to set a path to your computer's GraphViz installation (NOT the Python package). You can do so locally in this notebook by running something like `import os; os.environ[\"PATH\"] += os.pathsep + 'C:/Program Files (x86)/Graphviz2.38/bin/'` (substituting in the location of your own GraphViz installation)._\n"
   ]
  },
  {
   "cell_type": "code",
   "execution_count": 69,
   "metadata": {},
   "outputs": [
    {
     "name": "stdout",
     "output_type": "stream",
     "text": [
      "Requirement already satisfied: graphviz in c:\\users\\kavan\\anaconda3\\lib\\site-packages (0.13)\n",
      "Note: you may need to restart the kernel to use updated packages.\n"
     ]
    }
   ],
   "source": [
    "pip install graphviz"
   ]
  },
  {
   "cell_type": "code",
   "execution_count": 21,
   "metadata": {},
   "outputs": [],
   "source": [
    "import graphviz\n",
    "import os; os.environ[\"PATH\"] += os.pathsep + 'C:/Users/kavan/Anaconda3/Lib/site-packages/graphviz/'\n",
    "graphviz.Source(tree.export_graphviz(regr, out_file=None, feature_names=diabetes.feature_names))\n",
    "#having trouble using graphviz."
   ]
  },
  {
   "cell_type": "code",
   "execution_count": 194,
   "metadata": {},
   "outputs": [
    {
     "data": {
      "image/png": "[encoded data removed]",
      "text/plain": [
       "<Figure size 1440x1080 with 1 Axes>"
      ]
     },
     "metadata": {
      "needs_background": "light"
     },
     "output_type": "display_data"
    }
   ],
   "source": [
    "from sklearn import tree\n",
    "plt.figure(figsize=(20,15))\n",
    "_=tree.plot_tree(regr, feature_names = diabetes.feature_names, fontsize=11)"
   ]
  },
  {
   "cell_type": "code",
   "execution_count": 188,
   "metadata": {},
   "outputs": [
    {
     "data": {
      "text/plain": [
       "array([0.        , 0.        , 0.72905174, 0.        , 0.01052853,\n",
       "       0.01972725, 0.        , 0.        , 0.1506786 , 0.09001388])"
      ]
     },
     "execution_count": 188,
     "metadata": {},
     "output_type": "execute_result"
    }
   ],
   "source": [
    "regr.feature_importances_"
   ]
  },
  {
   "cell_type": "markdown",
   "metadata": {},
   "source": [
    "### Part (d) Evaluation\n",
    "\n",
    "Interpret your regression tree. What are some examples of variables that seem to correspond with higher or lower measures of diabetes progression? Find the MSE of the model using the test set. The `.predict` method for your model can help with this."
   ]
  },
  {
   "cell_type": "code",
   "execution_count": 90,
   "metadata": {},
   "outputs": [
    {
     "name": "stdout",
     "output_type": "stream",
     "text": [
      "Mean squared error: 3999.39\n"
     ]
    }
   ],
   "source": [
    "y_predicted = regr.predict(xtest)\n",
    "from sklearn.metrics import mean_squared_error\n",
    "print(\"Mean squared error: %.2f\"% mean_squared_error(ytest, y_predicted))\n",
    "#mse=np.sum((ytest-y_predicted)**2)/len(ytest)"
   ]
  },
  {
   "cell_type": "markdown",
   "metadata": {},
   "source": [
    "BMI, s5, s2, s6 and s1 are associated with diabetes progression. From the regression tree, we can interpret that one has BMI>0.072 and s2<=0.027 are at the highest risk of diabetes progression. On the other hand, people with BMI<=0.004, s5<=-0.034, and s1>-0.041 are at the lowest risk of diabetes progression."
   ]
  },
  {
   "cell_type": "markdown",
   "metadata": {},
   "source": [
    "### Part (e) Random Forest\n",
    "\n",
    "Now use random forests to analyze the data with the `RandomForestRegressor` function from `sklearn.ensemble`. (Again, you may use your best judgment to choose the initial parameters for tree complexity.)\n",
    "\n",
    "__(i)__ What test MSE do you obtain, and how does it compare to the test MSE of the regression tree above? \n",
    "\n",
    "__(ii)__ According to the model, which variables are most important in predicting diabetes progression? (The `.feature_importances_` method of the model may help with this.)\n",
    "\n",
    "__(iii)__ Plot the MSE of the prediction against $m$, the number of variables considered at each split.\n",
    "\n",
    "__(iv)__ Comment on the plot you created and if it makes sense."
   ]
  },
  {
   "cell_type": "code",
   "execution_count": 230,
   "metadata": {},
   "outputs": [
    {
     "name": "stdout",
     "output_type": "stream",
     "text": [
      "Mean squared error: 3295.84\n"
     ]
    },
    {
     "data": {
      "text/plain": [
       "3295.836341361681"
      ]
     },
     "execution_count": 230,
     "metadata": {},
     "output_type": "execute_result"
    }
   ],
   "source": [
    "from sklearn import ensemble\n",
    "import warnings\n",
    "warnings.filterwarnings(\"ignore\")\n",
    "# Here is an example of how to use the random forest function in sklearn.ensemble.\n",
    "# The code below assumes that the training inputs and responses are loaded in the variables train_x and train_y\n",
    "# and that the test predictor variables are in test_x\n",
    "np.random.seed(1000)\n",
    "dtr = ensemble.RandomForestRegressor(min_samples_leaf = 15, max_features = 10)\n",
    "regr = dtr.fit(xtrain, ytrain)\n",
    "pred_y = regr.predict(xtest)\n",
    "mse = sum(np.square(ytest-pred_y))/len(ytest)\n",
    "print(\"Mean squared error: %.2f\"% mean_squared_error(ytest, pred_y))\n",
    "mse"
   ]
  },
  {
   "cell_type": "markdown",
   "metadata": {},
   "source": [
    "i. the MSE of the model is 3295.84. It is smaller than the above regression tree model."
   ]
  },
  {
   "cell_type": "code",
   "execution_count": 231,
   "metadata": {},
   "outputs": [
    {
     "data": {
      "text/plain": [
       "array([0.01617747, 0.00740353, 0.55058908, 0.08585296, 0.01930502,\n",
       "       0.        , 0.02745899, 0.00140377, 0.20423688, 0.08757232])"
      ]
     },
     "execution_count": 231,
     "metadata": {},
     "output_type": "execute_result"
    }
   ],
   "source": [
    "dtr.feature_importances_"
   ]
  },
  {
   "cell_type": "markdown",
   "metadata": {},
   "source": [
    "ii. bmi is the most important variable to predict diabetes progression."
   ]
  },
  {
   "cell_type": "code",
   "execution_count": 233,
   "metadata": {},
   "outputs": [
    {
     "data": {
      "image/png": "[encoded data removed]",
      "text/plain": [
       "<Figure size 432x288 with 1 Axes>"
      ]
     },
     "metadata": {
      "needs_background": "light"
     },
     "output_type": "display_data"
    }
   ],
   "source": [
    "import warnings\n",
    "warnings.filterwarnings(\"ignore\")\n",
    "list_mse=[]\n",
    "np.random.seed(1000)\n",
    "for m in range(1,11):    \n",
    "    dtr = ensemble.RandomForestRegressor(min_samples_leaf = 15, max_features = m)\n",
    "    regr = dtr.fit(xtrain, ytrain)\n",
    "    pred_y = regr.predict(xtest)\n",
    "    mse = sum(np.square(ytest-pred_y))/len(ytest)\n",
    "    list_mse.append(mse)\n",
    "plt.plot(list_mse);"
   ]
  },
  {
   "cell_type": "markdown",
   "metadata": {},
   "source": [
    "iv. from the graph we can see that the mininum MSE is achieved when m=6.   "
   ]
  },
  {
   "cell_type": "markdown",
   "metadata": {},
   "source": [
    "## Question 2: Analyzing Real Estate Data (40 pts)\n",
    "\n",
    "In this problem, you will train random forests on data from the website Zillow to forecast the sale price of real estate listings. Random forests are nonparametric methods for classification and regression. As discussed in class, the method is based on the following idea: a good predictor will have low bias and low variance. A deep decision tree has low bias, but high variance. To reduce the variance, multiple trees are fit and averaged together. By introducing randomness in the construction of the trees, the correlation between them is reduced, to facilitate the variance reduction.\n",
    "\n",
    "Read in the training and test sets as follows:\n",
    "\n",
    "`import pandas as pd\n",
    "train = pd.read_csv(\"zillow_train.csv\")\n",
    "test = pd.read_csv(\"zillow_test.csv\")`\n",
    "\n",
    "Use the following variables: `Lat`, `Long`, `ListPrice`, `SaleYear`, `Bathroom`, `Bedroom`, `BuildDecade`, `MajorRenov`, `FinishSqFt`, `LotSqFt`, `MSA`, `City`, `HighSchool`, `SalePrice`. You will build regression models to predict `SalePrice`.\n",
    "\n",
    "\n",
    "### (a) Explore the data\n",
    "\n",
    "Get an idea of what kind of data you're working with. As usual, you might ask yourself what $n$ (sample size) and $p$ (number of predictor variables) are here. Make plots of the distributions of the variables. Include a plot of the response, `SalePrice`. Does it appear that the data are \"raw\", or have they been pre-processed in different ways? If so, how?"
   ]
  },
  {
   "cell_type": "code",
   "execution_count": 106,
   "metadata": {},
   "outputs": [],
   "source": [
    "import pandas as pd\n",
    "train = pd.read_csv(\"zillow_training.csv\")\n",
    "test = pd.read_csv(\"zillow_testing.csv\")"
   ]
  },
  {
   "cell_type": "code",
   "execution_count": 277,
   "metadata": {},
   "outputs": [
    {
     "data": {
      "text/html": [
       "<div>\n",
       "<style scoped>\n",
       "    .dataframe tbody tr th:only-of-type {\n",
       "        vertical-align: middle;\n",
       "    }\n",
       "\n",
       "    .dataframe tbody tr th {\n",
       "        vertical-align: top;\n",
       "    }\n",
       "\n",
       "    .dataframe thead th {\n",
       "        text-align: right;\n",
       "    }\n",
       "</style>\n",
       "<table border=\"1\" class=\"dataframe\">\n",
       "  <thead>\n",
       "    <tr style=\"text-align: right;\">\n",
       "      <th></th>\n",
       "      <th>ID</th>\n",
       "      <th>Lat</th>\n",
       "      <th>Long</th>\n",
       "      <th>ListDate</th>\n",
       "      <th>ListPrice</th>\n",
       "      <th>SaleDate</th>\n",
       "      <th>TimetoSale</th>\n",
       "      <th>SaleYear</th>\n",
       "      <th>ForSale</th>\n",
       "      <th>SalePrice</th>\n",
       "      <th>...</th>\n",
       "      <th>Bathroom</th>\n",
       "      <th>Bedroom</th>\n",
       "      <th>BuiltYear</th>\n",
       "      <th>BuildDecade</th>\n",
       "      <th>MajorRenov</th>\n",
       "      <th>FinishSqFt</th>\n",
       "      <th>LotSqFt</th>\n",
       "      <th>MSA</th>\n",
       "      <th>City</th>\n",
       "      <th>HighSchool</th>\n",
       "    </tr>\n",
       "  </thead>\n",
       "  <tbody>\n",
       "    <tr>\n",
       "      <th>0</th>\n",
       "      <td>39946197</td>\n",
       "      <td>41.046541</td>\n",
       "      <td>-74.753302</td>\n",
       "      <td>3/12/14 17:06</td>\n",
       "      <td>170000.0</td>\n",
       "      <td>5/16/14</td>\n",
       "      <td>64.287500</td>\n",
       "      <td>2014</td>\n",
       "      <td>0</td>\n",
       "      <td>165000.0</td>\n",
       "      <td>...</td>\n",
       "      <td>1.0</td>\n",
       "      <td>3</td>\n",
       "      <td>1965.0</td>\n",
       "      <td>1960</td>\n",
       "      <td>NONE</td>\n",
       "      <td>1198.0</td>\n",
       "      <td>6969.0</td>\n",
       "      <td>New York City</td>\n",
       "      <td>Newton</td>\n",
       "      <td>Newton High School</td>\n",
       "    </tr>\n",
       "    <tr>\n",
       "      <th>1</th>\n",
       "      <td>29024678</td>\n",
       "      <td>32.767862</td>\n",
       "      <td>-97.079833</td>\n",
       "      <td>2/28/13 9:40</td>\n",
       "      <td>120000.0</td>\n",
       "      <td>4/4/13</td>\n",
       "      <td>34.597222</td>\n",
       "      <td>2013</td>\n",
       "      <td>0</td>\n",
       "      <td>114000.0</td>\n",
       "      <td>...</td>\n",
       "      <td>2.0</td>\n",
       "      <td>3</td>\n",
       "      <td>1980.0</td>\n",
       "      <td>1980</td>\n",
       "      <td>NONE</td>\n",
       "      <td>1547.0</td>\n",
       "      <td>10410.0</td>\n",
       "      <td>Dallas</td>\n",
       "      <td>Arlington</td>\n",
       "      <td>Lamar High School</td>\n",
       "    </tr>\n",
       "    <tr>\n",
       "      <th>2</th>\n",
       "      <td>3516596</td>\n",
       "      <td>42.055590</td>\n",
       "      <td>-87.716377</td>\n",
       "      <td>4/9/13 13:30</td>\n",
       "      <td>599000.0</td>\n",
       "      <td>9/12/13</td>\n",
       "      <td>155.437500</td>\n",
       "      <td>2013</td>\n",
       "      <td>0</td>\n",
       "      <td>585000.0</td>\n",
       "      <td>...</td>\n",
       "      <td>2.5</td>\n",
       "      <td>4</td>\n",
       "      <td>1967.0</td>\n",
       "      <td>1960</td>\n",
       "      <td>NONE</td>\n",
       "      <td>2800.0</td>\n",
       "      <td>7452.0</td>\n",
       "      <td>Chicago</td>\n",
       "      <td>Evanston</td>\n",
       "      <td>Evanston Twp High School</td>\n",
       "    </tr>\n",
       "    <tr>\n",
       "      <th>3</th>\n",
       "      <td>65546456</td>\n",
       "      <td>41.978603</td>\n",
       "      <td>-87.658271</td>\n",
       "      <td>1/16/13 4:02</td>\n",
       "      <td>400000.0</td>\n",
       "      <td>4/17/13</td>\n",
       "      <td>90.831944</td>\n",
       "      <td>2013</td>\n",
       "      <td>0</td>\n",
       "      <td>404000.0</td>\n",
       "      <td>...</td>\n",
       "      <td>3.0</td>\n",
       "      <td>3</td>\n",
       "      <td>2002.0</td>\n",
       "      <td>2000</td>\n",
       "      <td>NONE</td>\n",
       "      <td>2400.0</td>\n",
       "      <td>7627.0</td>\n",
       "      <td>Chicago</td>\n",
       "      <td>Chicago</td>\n",
       "      <td>Senn High School</td>\n",
       "    </tr>\n",
       "    <tr>\n",
       "      <th>4</th>\n",
       "      <td>25108921</td>\n",
       "      <td>33.937434</td>\n",
       "      <td>-117.945730</td>\n",
       "      <td>6/3/14 22:33</td>\n",
       "      <td>425000.0</td>\n",
       "      <td>7/15/14</td>\n",
       "      <td>41.060417</td>\n",
       "      <td>2014</td>\n",
       "      <td>0</td>\n",
       "      <td>435000.0</td>\n",
       "      <td>...</td>\n",
       "      <td>2.0</td>\n",
       "      <td>3</td>\n",
       "      <td>1951.0</td>\n",
       "      <td>1950</td>\n",
       "      <td>NONE</td>\n",
       "      <td>1442.0</td>\n",
       "      <td>5662.0</td>\n",
       "      <td>Los Angeles</td>\n",
       "      <td>La Habra</td>\n",
       "      <td>NONE</td>\n",
       "    </tr>\n",
       "  </tbody>\n",
       "</table>\n",
       "<p>5 rows × 24 columns</p>\n",
       "</div>"
      ],
      "text/plain": [
       "         ID        Lat        Long       ListDate  ListPrice SaleDate  \\\n",
       "0  39946197  41.046541  -74.753302  3/12/14 17:06   170000.0  5/16/14   \n",
       "1  29024678  32.767862  -97.079833   2/28/13 9:40   120000.0   4/4/13   \n",
       "2   3516596  42.055590  -87.716377   4/9/13 13:30   599000.0  9/12/13   \n",
       "3  65546456  41.978603  -87.658271   1/16/13 4:02   400000.0  4/17/13   \n",
       "4  25108921  33.937434 -117.945730   6/3/14 22:33   425000.0  7/15/14   \n",
       "\n",
       "   TimetoSale  SaleYear  ForSale  SalePrice  ...  Bathroom  Bedroom  \\\n",
       "0   64.287500      2014        0   165000.0  ...       1.0        3   \n",
       "1   34.597222      2013        0   114000.0  ...       2.0        3   \n",
       "2  155.437500      2013        0   585000.0  ...       2.5        4   \n",
       "3   90.831944      2013        0   404000.0  ...       3.0        3   \n",
       "4   41.060417      2014        0   435000.0  ...       2.0        3   \n",
       "\n",
       "   BuiltYear  BuildDecade  MajorRenov  FinishSqFt  LotSqFt            MSA  \\\n",
       "0     1965.0         1960        NONE      1198.0   6969.0  New York City   \n",
       "1     1980.0         1980        NONE      1547.0  10410.0         Dallas   \n",
       "2     1967.0         1960        NONE      2800.0   7452.0        Chicago   \n",
       "3     2002.0         2000        NONE      2400.0   7627.0        Chicago   \n",
       "4     1951.0         1950        NONE      1442.0   5662.0    Los Angeles   \n",
       "\n",
       "        City                HighSchool  \n",
       "0     Newton        Newton High School  \n",
       "1  Arlington         Lamar High School  \n",
       "2   Evanston  Evanston Twp High School  \n",
       "3    Chicago          Senn High School  \n",
       "4   La Habra                      NONE  \n",
       "\n",
       "[5 rows x 24 columns]"
      ]
     },
     "execution_count": 277,
     "metadata": {},
     "output_type": "execute_result"
    }
   ],
   "source": [
    "train.head()"
   ]
  },
  {
   "cell_type": "code",
   "execution_count": 97,
   "metadata": {},
   "outputs": [
    {
     "data": {
      "text/plain": [
       "(77728, 24)"
      ]
     },
     "execution_count": 97,
     "metadata": {},
     "output_type": "execute_result"
    }
   ],
   "source": [
    "train.shape"
   ]
  },
  {
   "cell_type": "code",
   "execution_count": 103,
   "metadata": {},
   "outputs": [
    {
     "data": {
      "text/html": [
       "<div>\n",
       "<style scoped>\n",
       "    .dataframe tbody tr th:only-of-type {\n",
       "        vertical-align: middle;\n",
       "    }\n",
       "\n",
       "    .dataframe tbody tr th {\n",
       "        vertical-align: top;\n",
       "    }\n",
       "\n",
       "    .dataframe thead th {\n",
       "        text-align: right;\n",
       "    }\n",
       "</style>\n",
       "<table border=\"1\" class=\"dataframe\">\n",
       "  <thead>\n",
       "    <tr style=\"text-align: right;\">\n",
       "      <th></th>\n",
       "      <th>ID</th>\n",
       "      <th>Lat</th>\n",
       "      <th>Long</th>\n",
       "      <th>ListDate</th>\n",
       "      <th>ListPrice</th>\n",
       "      <th>SaleDate</th>\n",
       "      <th>TimetoSale</th>\n",
       "      <th>SaleYear</th>\n",
       "      <th>ForSale</th>\n",
       "      <th>SalePrice</th>\n",
       "      <th>...</th>\n",
       "      <th>Bathroom</th>\n",
       "      <th>Bedroom</th>\n",
       "      <th>BuiltYear</th>\n",
       "      <th>BuildDecade</th>\n",
       "      <th>MajorRenov</th>\n",
       "      <th>FinishSqFt</th>\n",
       "      <th>LotSqFt</th>\n",
       "      <th>MSA</th>\n",
       "      <th>City</th>\n",
       "      <th>HighSchool</th>\n",
       "    </tr>\n",
       "  </thead>\n",
       "  <tbody>\n",
       "    <tr>\n",
       "      <th>0</th>\n",
       "      <td>29316121</td>\n",
       "      <td>32.596935</td>\n",
       "      <td>-97.142223</td>\n",
       "      <td>4/25/14 17:09</td>\n",
       "      <td>225000.0</td>\n",
       "      <td>5/14/14</td>\n",
       "      <td>18.285417</td>\n",
       "      <td>2014</td>\n",
       "      <td>0</td>\n",
       "      <td>225500.0</td>\n",
       "      <td>...</td>\n",
       "      <td>3.0</td>\n",
       "      <td>4</td>\n",
       "      <td>2001.0</td>\n",
       "      <td>2000</td>\n",
       "      <td>NONE</td>\n",
       "      <td>2826.0</td>\n",
       "      <td>9639.0000</td>\n",
       "      <td>Dallas</td>\n",
       "      <td>Mansfield</td>\n",
       "      <td>Mansfield High School</td>\n",
       "    </tr>\n",
       "    <tr>\n",
       "      <th>1</th>\n",
       "      <td>38014766</td>\n",
       "      <td>40.984025</td>\n",
       "      <td>-74.079963</td>\n",
       "      <td>7/7/13 18:05</td>\n",
       "      <td>599000.0</td>\n",
       "      <td>10/17/13</td>\n",
       "      <td>101.246528</td>\n",
       "      <td>2013</td>\n",
       "      <td>0</td>\n",
       "      <td>630000.0</td>\n",
       "      <td>...</td>\n",
       "      <td>2.5</td>\n",
       "      <td>4</td>\n",
       "      <td>1964.0</td>\n",
       "      <td>1960</td>\n",
       "      <td>NONE</td>\n",
       "      <td>1982.0</td>\n",
       "      <td>14098.0000</td>\n",
       "      <td>New York City</td>\n",
       "      <td>Ridgewood</td>\n",
       "      <td>NONE</td>\n",
       "    </tr>\n",
       "    <tr>\n",
       "      <th>2</th>\n",
       "      <td>29253378</td>\n",
       "      <td>32.683928</td>\n",
       "      <td>-97.168452</td>\n",
       "      <td>4/11/13 1:20</td>\n",
       "      <td>205000.0</td>\n",
       "      <td>6/6/13</td>\n",
       "      <td>55.944444</td>\n",
       "      <td>2013</td>\n",
       "      <td>0</td>\n",
       "      <td>207500.0</td>\n",
       "      <td>...</td>\n",
       "      <td>2.5</td>\n",
       "      <td>4</td>\n",
       "      <td>1988.0</td>\n",
       "      <td>1980</td>\n",
       "      <td>NONE</td>\n",
       "      <td>2478.0</td>\n",
       "      <td>10454.0000</td>\n",
       "      <td>Dallas</td>\n",
       "      <td>Arlington</td>\n",
       "      <td>Martin High School</td>\n",
       "    </tr>\n",
       "    <tr>\n",
       "      <th>3</th>\n",
       "      <td>31099617</td>\n",
       "      <td>40.751243</td>\n",
       "      <td>-73.683799</td>\n",
       "      <td>6/25/13 13:09</td>\n",
       "      <td>475000.0</td>\n",
       "      <td>7/3/13</td>\n",
       "      <td>7.452083</td>\n",
       "      <td>2013</td>\n",
       "      <td>0</td>\n",
       "      <td>470000.0</td>\n",
       "      <td>...</td>\n",
       "      <td>1.0</td>\n",
       "      <td>4</td>\n",
       "      <td>1941.0</td>\n",
       "      <td>1940</td>\n",
       "      <td>NONE</td>\n",
       "      <td>1288.0</td>\n",
       "      <td>6011.0000</td>\n",
       "      <td>New York City</td>\n",
       "      <td>North New Hyde Park</td>\n",
       "      <td>NONE</td>\n",
       "    </tr>\n",
       "    <tr>\n",
       "      <th>4</th>\n",
       "      <td>21253918</td>\n",
       "      <td>33.832280</td>\n",
       "      <td>-118.246070</td>\n",
       "      <td>11/14/13 12:05</td>\n",
       "      <td>279000.0</td>\n",
       "      <td>1/16/14</td>\n",
       "      <td>62.496528</td>\n",
       "      <td>2014</td>\n",
       "      <td>0</td>\n",
       "      <td>279000.0</td>\n",
       "      <td>...</td>\n",
       "      <td>2.0</td>\n",
       "      <td>3</td>\n",
       "      <td>1985.0</td>\n",
       "      <td>1980</td>\n",
       "      <td>NONE</td>\n",
       "      <td>1185.0</td>\n",
       "      <td>12791.8728</td>\n",
       "      <td>Los Angeles</td>\n",
       "      <td>Carson</td>\n",
       "      <td>Phineas Banning Senior High School</td>\n",
       "    </tr>\n",
       "  </tbody>\n",
       "</table>\n",
       "<p>5 rows × 24 columns</p>\n",
       "</div>"
      ],
      "text/plain": [
       "         ID        Lat        Long        ListDate  ListPrice  SaleDate  \\\n",
       "0  29316121  32.596935  -97.142223   4/25/14 17:09   225000.0   5/14/14   \n",
       "1  38014766  40.984025  -74.079963    7/7/13 18:05   599000.0  10/17/13   \n",
       "2  29253378  32.683928  -97.168452    4/11/13 1:20   205000.0    6/6/13   \n",
       "3  31099617  40.751243  -73.683799   6/25/13 13:09   475000.0    7/3/13   \n",
       "4  21253918  33.832280 -118.246070  11/14/13 12:05   279000.0   1/16/14   \n",
       "\n",
       "   TimetoSale  SaleYear  ForSale  SalePrice  ...  Bathroom  Bedroom  \\\n",
       "0   18.285417      2014        0   225500.0  ...       3.0        4   \n",
       "1  101.246528      2013        0   630000.0  ...       2.5        4   \n",
       "2   55.944444      2013        0   207500.0  ...       2.5        4   \n",
       "3    7.452083      2013        0   470000.0  ...       1.0        4   \n",
       "4   62.496528      2014        0   279000.0  ...       2.0        3   \n",
       "\n",
       "   BuiltYear  BuildDecade  MajorRenov  FinishSqFt     LotSqFt            MSA  \\\n",
       "0     2001.0         2000        NONE      2826.0   9639.0000         Dallas   \n",
       "1     1964.0         1960        NONE      1982.0  14098.0000  New York City   \n",
       "2     1988.0         1980        NONE      2478.0  10454.0000         Dallas   \n",
       "3     1941.0         1940        NONE      1288.0   6011.0000  New York City   \n",
       "4     1985.0         1980        NONE      1185.0  12791.8728    Los Angeles   \n",
       "\n",
       "                  City                          HighSchool  \n",
       "0            Mansfield               Mansfield High School  \n",
       "1            Ridgewood                                NONE  \n",
       "2            Arlington                  Martin High School  \n",
       "3  North New Hyde Park                                NONE  \n",
       "4               Carson  Phineas Banning Senior High School  \n",
       "\n",
       "[5 rows x 24 columns]"
      ]
     },
     "execution_count": 103,
     "metadata": {},
     "output_type": "execute_result"
    }
   ],
   "source": [
    "test.head()"
   ]
  },
  {
   "cell_type": "code",
   "execution_count": 100,
   "metadata": {},
   "outputs": [
    {
     "data": {
      "text/plain": [
       "(18682, 24)"
      ]
     },
     "execution_count": 100,
     "metadata": {},
     "output_type": "execute_result"
    }
   ],
   "source": [
    "test.shape"
   ]
  },
  {
   "cell_type": "code",
   "execution_count": 99,
   "metadata": {},
   "outputs": [
    {
     "name": "stdout",
     "output_type": "stream",
     "text": [
      "ID\n",
      "Lat\n",
      "Long\n",
      "ListDate\n",
      "ListPrice\n",
      "SaleDate\n",
      "TimetoSale\n",
      "SaleYear\n",
      "ForSale\n",
      "SalePrice\n",
      "Zest\n",
      "SaleList\n",
      "ZestList\n",
      "ZestSale\n",
      "Bathroom\n",
      "Bedroom\n",
      "BuiltYear\n",
      "BuildDecade\n",
      "MajorRenov\n",
      "FinishSqFt\n",
      "LotSqFt\n",
      "MSA\n",
      "City\n",
      "HighSchool\n"
     ]
    }
   ],
   "source": [
    "#variable names in the train dataset\n",
    "for col in train.columns: \n",
    "    print(col) "
   ]
  },
  {
   "cell_type": "code",
   "execution_count": 234,
   "metadata": {},
   "outputs": [
    {
     "data": {
      "image/png": "[encoded data removed]",
      "text/plain": [
       "<Figure size 432x288 with 1 Axes>"
      ]
     },
     "metadata": {
      "needs_background": "light"
     },
     "output_type": "display_data"
    }
   ],
   "source": [
    "import seaborn as sns\n",
    "plt.title(\"SalePrice Distribution in the Train dataset\")\n",
    "sns.distplot(train['SalePrice']);"
   ]
  },
  {
   "cell_type": "code",
   "execution_count": 235,
   "metadata": {},
   "outputs": [
    {
     "data": {
      "image/png": "[encoded data removed]",
      "text/plain": [
       "<Figure size 432x288 with 1 Axes>"
      ]
     },
     "metadata": {
      "needs_background": "light"
     },
     "output_type": "display_data"
    }
   ],
   "source": [
    "plt.title(\"SalePrice Distribution in the Test dataset\")\n",
    "sns.distplot(test['SalePrice']);"
   ]
  },
  {
   "cell_type": "code",
   "execution_count": 236,
   "metadata": {},
   "outputs": [
    {
     "data": {
      "image/png": "[encoded data removed]",
      "text/plain": [
       "<Figure size 432x288 with 1 Axes>"
      ]
     },
     "metadata": {
      "needs_background": "light"
     },
     "output_type": "display_data"
    }
   ],
   "source": [
    "plt.title(\"Lat Distribution in the Train dataset\")\n",
    "sns.distplot(train['Lat']);"
   ]
  },
  {
   "cell_type": "code",
   "execution_count": 260,
   "metadata": {},
   "outputs": [
    {
     "data": {
      "image/png": "[encoded data removed]",
      "text/plain": [
       "<Figure size 432x288 with 1 Axes>"
      ]
     },
     "metadata": {
      "needs_background": "light"
     },
     "output_type": "display_data"
    }
   ],
   "source": [
    "plt.title(\"Distribution of Long in the Train dataset\")\n",
    "sns.distplot(train['Long']);"
   ]
  },
  {
   "cell_type": "code",
   "execution_count": 238,
   "metadata": {},
   "outputs": [
    {
     "data": {
      "image/png": "[encoded data removed]",
      "text/plain": [
       "<Figure size 432x288 with 1 Axes>"
      ]
     },
     "metadata": {
      "needs_background": "light"
     },
     "output_type": "display_data"
    }
   ],
   "source": [
    "plt.title(\"Distribution of ListPrice in the Train dataset\")\n",
    "sns.distplot(train['ListPrice']);"
   ]
  },
  {
   "cell_type": "code",
   "execution_count": 239,
   "metadata": {},
   "outputs": [
    {
     "data": {
      "image/png": "[encoded data removed]",
      "text/plain": [
       "<Figure size 432x288 with 1 Axes>"
      ]
     },
     "metadata": {
      "needs_background": "light"
     },
     "output_type": "display_data"
    }
   ],
   "source": [
    "plt.title(\"Distribution of FinishSqFt in the Train dataset\")\n",
    "sns.distplot(train['FinishSqFt']);"
   ]
  },
  {
   "cell_type": "code",
   "execution_count": 240,
   "metadata": {},
   "outputs": [
    {
     "data": {
      "image/png": "[encoded data removed]",
      "text/plain": [
       "<Figure size 432x288 with 1 Axes>"
      ]
     },
     "metadata": {
      "needs_background": "light"
     },
     "output_type": "display_data"
    }
   ],
   "source": [
    "plt.title(\"Distribution of LotSqFt in the Train dataset\")\n",
    "sns.distplot(train['LotSqFt']);"
   ]
  },
  {
   "cell_type": "code",
   "execution_count": 247,
   "metadata": {},
   "outputs": [
    {
     "data": {
      "image/png": "[encoded data removed]",
      "text/plain": [
       "<Figure size 432x288 with 1 Axes>"
      ]
     },
     "metadata": {
      "needs_background": "light"
     },
     "output_type": "display_data"
    }
   ],
   "source": [
    "plt.title(\"Distribution of SaleYear in the Train dataset\")\n",
    "sns.countplot(train['SaleYear']);"
   ]
  },
  {
   "cell_type": "code",
   "execution_count": 248,
   "metadata": {},
   "outputs": [
    {
     "data": {
      "image/png": "[encoded data removed]",
      "text/plain": [
       "<Figure size 432x288 with 1 Axes>"
      ]
     },
     "metadata": {
      "needs_background": "light"
     },
     "output_type": "display_data"
    }
   ],
   "source": [
    "plt.title(\"Distribution of Bathroom in the Train dataset\")\n",
    "sns.countplot(train['Bathroom']);"
   ]
  },
  {
   "cell_type": "code",
   "execution_count": 249,
   "metadata": {},
   "outputs": [
    {
     "data": {
      "image/png": "[encoded data removed]",
      "text/plain": [
       "<Figure size 432x288 with 1 Axes>"
      ]
     },
     "metadata": {
      "needs_background": "light"
     },
     "output_type": "display_data"
    }
   ],
   "source": [
    "plt.title(\"Distribution of Bedroom in the Train dataset\")\n",
    "sns.countplot(train['Bedroom']);"
   ]
  },
  {
   "cell_type": "code",
   "execution_count": 243,
   "metadata": {},
   "outputs": [
    {
     "data": {
      "image/png": "[encoded data removed]",
      "text/plain": [
       "<Figure size 432x288 with 1 Axes>"
      ]
     },
     "metadata": {
      "needs_background": "light"
     },
     "output_type": "display_data"
    }
   ],
   "source": [
    "plt.title(\"Distribution of MSA in the Train dataset\")\n",
    "sns.countplot(train['MSA']);"
   ]
  },
  {
   "cell_type": "code",
   "execution_count": 244,
   "metadata": {},
   "outputs": [
    {
     "data": {
      "image/png": "[encoded data removed]",
      "text/plain": [
       "<Figure size 432x288 with 1 Axes>"
      ]
     },
     "metadata": {
      "needs_background": "light"
     },
     "output_type": "display_data"
    }
   ],
   "source": [
    "plt.title(\"Distribution of City in the Train dataset\")\n",
    "sns.countplot(train['City']);"
   ]
  },
  {
   "cell_type": "code",
   "execution_count": 245,
   "metadata": {},
   "outputs": [
    {
     "data": {
      "image/png": "[encoded data removed]",
      "text/plain": [
       "<Figure size 432x288 with 1 Axes>"
      ]
     },
     "metadata": {
      "needs_background": "light"
     },
     "output_type": "display_data"
    }
   ],
   "source": [
    "plt.title(\"Distribution of HighSchool in the Train dataset\")\n",
    "sns.countplot(train['HighSchool']);"
   ]
  },
  {
   "cell_type": "code",
   "execution_count": 252,
   "metadata": {},
   "outputs": [
    {
     "data": {
      "image/png": "[encoded data removed]",
      "text/plain": [
       "<Figure size 432x288 with 1 Axes>"
      ]
     },
     "metadata": {
      "needs_background": "light"
     },
     "output_type": "display_data"
    }
   ],
   "source": [
    "plt.title(\"Distribution of BuildDecade in the Train dataset\")\n",
    "sns.countplot(train['BuildDecade']);"
   ]
  },
  {
   "cell_type": "code",
   "execution_count": 253,
   "metadata": {},
   "outputs": [
    {
     "data": {
      "image/png": "[encoded data removed]",
      "text/plain": [
       "<Figure size 432x288 with 1 Axes>"
      ]
     },
     "metadata": {
      "needs_background": "light"
     },
     "output_type": "display_data"
    }
   ],
   "source": [
    "plt.title(\"Distribution of MajorRenov in the Train dataset\")\n",
    "sns.countplot(train['MajorRenov']);"
   ]
  },
  {
   "cell_type": "markdown",
   "metadata": {},
   "source": [
    "There are n1=77728 rows of data in the train dataset, while n2=18682 rows of data in the test dataset. There are 24 variables in both datasets. As mentioned in the question discription, we want to use p=13 predictor variables (Lat, Long, ListPrice, SaleYear, Bathroom, Bedroom, BuildDecade, MajorRenov, FinishSqFt, LotSqFt, MSA, City, HighSchool) to predict SalePrice. The distribution of SalePrice in both test and train datasets are right skewed."
   ]
  },
  {
   "cell_type": "markdown",
   "metadata": {},
   "source": [
    "### Part (b) Preliminary steps\n",
    "\n",
    "__(i)__ Some of the variables in the data are categorical; how many values do they take? (You may find the `.nunique` method of pandas to be useful here.) Why might factor variables with many categories present a problem when fitting decision trees? Describe a couple different ways of handling factor variables when fitting decision trees.\n"
   ]
  },
  {
   "cell_type": "code",
   "execution_count": 149,
   "metadata": {},
   "outputs": [
    {
     "data": {
      "text/plain": [
       "ID               int64\n",
       "Lat            float64\n",
       "Long           float64\n",
       "ListDate        object\n",
       "ListPrice      float64\n",
       "SaleDate        object\n",
       "TimetoSale     float64\n",
       "SaleYear         int64\n",
       "ForSale          int64\n",
       "SalePrice      float64\n",
       "Zest           float64\n",
       "SaleList       float64\n",
       "ZestList       float64\n",
       "ZestSale       float64\n",
       "Bathroom       float64\n",
       "Bedroom          int64\n",
       "BuiltYear      float64\n",
       "BuildDecade     object\n",
       "MajorRenov      object\n",
       "FinishSqFt     float64\n",
       "LotSqFt        float64\n",
       "MSA             object\n",
       "City            object\n",
       "HighSchool      object\n",
       "dtype: object"
      ]
     },
     "execution_count": 149,
     "metadata": {},
     "output_type": "execute_result"
    }
   ],
   "source": [
    "#data types of train datase\n",
    "train.dtypes"
   ]
  },
  {
   "cell_type": "code",
   "execution_count": 160,
   "metadata": {},
   "outputs": [
    {
     "data": {
      "text/plain": [
       "ID             77684\n",
       "Lat            72960\n",
       "Long           73090\n",
       "ListDate       43347\n",
       "ListPrice       4774\n",
       "SaleDate        1955\n",
       "TimetoSale     50277\n",
       "SaleYear           9\n",
       "ForSale            2\n",
       "SalePrice       5052\n",
       "Zest           69332\n",
       "SaleList       21691\n",
       "ZestList       73025\n",
       "ZestSale       72525\n",
       "Bathroom          10\n",
       "Bedroom            8\n",
       "BuiltYear        182\n",
       "BuildDecade       29\n",
       "MajorRenov       113\n",
       "FinishSqFt      6222\n",
       "LotSqFt        10374\n",
       "MSA                4\n",
       "City            1289\n",
       "HighSchool       654\n",
       "dtype: int64"
      ]
     },
     "execution_count": 160,
     "metadata": {},
     "output_type": "execute_result"
    }
   ],
   "source": [
    "#number of values in each variable\n",
    "train.nunique()"
   ]
  },
  {
   "cell_type": "code",
   "execution_count": 142,
   "metadata": {},
   "outputs": [
    {
     "data": {
      "text/plain": [
       "ID               int64\n",
       "Lat            float64\n",
       "Long           float64\n",
       "ListDate        object\n",
       "ListPrice      float64\n",
       "SaleDate        object\n",
       "TimetoSale     float64\n",
       "SaleYear         int64\n",
       "ForSale          int64\n",
       "SalePrice      float64\n",
       "Zest           float64\n",
       "SaleList       float64\n",
       "ZestList       float64\n",
       "ZestSale       float64\n",
       "Bathroom       float64\n",
       "Bedroom          int64\n",
       "BuiltYear      float64\n",
       "BuildDecade     object\n",
       "MajorRenov      object\n",
       "FinishSqFt     float64\n",
       "LotSqFt        float64\n",
       "MSA             object\n",
       "City            object\n",
       "HighSchool      object\n",
       "dtype: object"
      ]
     },
     "execution_count": 142,
     "metadata": {},
     "output_type": "execute_result"
    }
   ],
   "source": [
    "#data types of test dataset\n",
    "test.dtypes"
   ]
  },
  {
   "cell_type": "code",
   "execution_count": 121,
   "metadata": {},
   "outputs": [
    {
     "data": {
      "text/plain": [
       "ID             18680\n",
       "Lat            18224\n",
       "Long           18226\n",
       "ListDate       14180\n",
       "ListPrice       2339\n",
       "SaleDate        1361\n",
       "TimetoSale     15416\n",
       "SaleYear           9\n",
       "ForSale            2\n",
       "SalePrice       2522\n",
       "Zest           17433\n",
       "SaleList        8298\n",
       "ZestList       17679\n",
       "ZestSale       17649\n",
       "Bathroom          10\n",
       "Bedroom            8\n",
       "BuiltYear        155\n",
       "BuildDecade       24\n",
       "MajorRenov        98\n",
       "FinishSqFt      4147\n",
       "LotSqFt         4501\n",
       "MSA                4\n",
       "City            1092\n",
       "HighSchool       625\n",
       "dtype: int64"
      ]
     },
     "execution_count": 121,
     "metadata": {},
     "output_type": "execute_result"
    }
   ],
   "source": [
    "#number of values in each variable\n",
    "test.nunique()"
   ]
  },
  {
   "cell_type": "markdown",
   "metadata": {},
   "source": [
    "Among the 13 predictors, BuildDecade, MajorRenov, MSA, City, and HighSchool are categorical variables. These variables with many levels can lead to overfitting of the training data. Possible ways of handling categorical variables are: \n",
    "1. Treating factor variables with numeric values as continuous variables \n",
    "2. Regrouping levels of factor variables into fewer levels. \n",
    "3. Ignoring factor variables with many levels. \n",
    "4. Ordering the factor variables. "
   ]
  },
  {
   "cell_type": "markdown",
   "metadata": {},
   "source": [
    "__(ii)__ Use your best judgement to modify the Zillow dataset to handle factor variables. In addition to `pandas` and `numpy`, it might be helpful to look at functions in `sklearn.preprocessing`."
   ]
  },
  {
   "cell_type": "code",
   "execution_count": 107,
   "metadata": {},
   "outputs": [],
   "source": [
    "#would like to convert factors into binary\n",
    "##find the element with the greatest values\n",
    "train['City'].value_counts()\n",
    "#new york shows the most count number\n",
    "train['HighSchool'].value_counts()\n",
    "#None values in Highschool\n",
    "\n",
    "#convert city to binary\n",
    "train['City1'] = np.where(train['City'].str.contains('New York'), 1, 0)\n",
    "test['City1'] = np.where(test['City'].str.contains('New York'), 1, 0)\n",
    "#convert Highschool to binary\n",
    "train['HighSchool1'] = np.where(train['HighSchool'].str.contains('NONE'), 0, 1)\n",
    "test['HighSchool1'] = np.where(test['HighSchool'].str.contains('NONE'), 0, 1)"
   ]
  },
  {
   "cell_type": "code",
   "execution_count": 108,
   "metadata": {},
   "outputs": [],
   "source": [
    "#handle other factor variables\n",
    "from sklearn.preprocessing import LabelEncoder\n",
    "num=LabelEncoder()\n",
    "#train data\n",
    "train['MSA']=num.fit_transform(train['MSA'].astype('str')) #convert categorical variable to numeric\n",
    "train['BuildDecade']=train['BuildDecade'].replace('UNKNOWN', 0).astype(int) #replace missing values\n",
    "train['MajorRenov']=train['MajorRenov'].replace('NONE', 0).astype(int) #replace missing values\n",
    "#test data\n",
    "test['MSA']=num.fit_transform(test['MSA'].astype('str')) #convert categorical variable to numeric\n",
    "test['BuildDecade']=test['BuildDecade'].replace('UNKNOWN', 0).astype(int) #replace missing values\n",
    "test['MajorRenov']=test['MajorRenov'].replace('NONE', 0).astype(int) #replace missing values"
   ]
  },
  {
   "cell_type": "code",
   "execution_count": 36,
   "metadata": {},
   "outputs": [
    {
     "name": "stdout",
     "output_type": "stream",
     "text": [
      "[   0 1899 1901 1903 1905 1906 1908 1910 1911 1912 1913 1914 1915 1916\n",
      " 1917 1918 1919 1920 1921 1922 1923 1924 1925 1926 1927 1928 1929 1930\n",
      " 1931 1932 1933 1934 1935 1936 1937 1938 1939 1940 1941 1942 1943 1944\n",
      " 1945 1946 1947 1948 1949 1950 1951 1952 1953 1954 1955 1956 1957 1958\n",
      " 1959 1960 1961 1962 1963 1964 1965 1966 1967 1968 1969 1970 1971 1972\n",
      " 1973 1974 1975 1976 1977 1978 1979 1980 1981 1982 1983 1984 1985 1986\n",
      " 1987 1988 1989 1990 1991 1992 1993 1994 1995 1996 1997 1998 1999 2000\n",
      " 2001 2002 2003 2004 2005 2006 2007 2008 2009 2010 2011 2012 2013 2014\n",
      " 2015]\n"
     ]
    }
   ],
   "source": [
    "# function to get unique values of a variable\n",
    "def unique(list1): \n",
    "    x = np.array(list1) \n",
    "    print(np.unique(x)) \n",
    "    \n",
    "list1=train['MajorRenov']\n",
    "unique(list1) "
   ]
  },
  {
   "cell_type": "code",
   "execution_count": 109,
   "metadata": {},
   "outputs": [],
   "source": [
    "#get train and test datasets\n",
    "##decide not to use BuildDecade, MajorRenov, Long, and Lat. City and Highschool are converted to binary\n",
    "train_y=train[\"SalePrice\"]\n",
    "test_y=test[\"SalePrice\"]\n",
    "train_x=train[['ListPrice', 'SaleYear', 'Bathroom', 'Bedroom', 'FinishSqFt', 'LotSqFt', 'MSA', 'City1', 'HighSchool1']]\n",
    "test_x=test[['ListPrice', 'SaleYear', 'Bathroom', 'Bedroom', 'FinishSqFt', 'LotSqFt', 'MSA', 'City1', 'HighSchool1']]"
   ]
  },
  {
   "cell_type": "markdown",
   "metadata": {},
   "source": [
    "__(iii)__ We will soon use a few methods to predict `SalePrice`. Throughout, we will evaluate the predictions in terms of the absolute relative error:\n",
    "\n",
    "<center>$\\frac{1}{n}\\sum_{i=1}^n \\frac{\\mid Y_i - \\hat{Y}_i\\mid}{Y_i}$</center>\n",
    "\n",
    "Explain why this is a more appropriate choice of accuracy, compared with squared error."
   ]
  },
  {
   "cell_type": "markdown",
   "metadata": {},
   "source": [
    "The absolute relative error takes the scale of response variable into account while MSE does not. It gives a percentage deviation of the predicted value from the true value, which is more understandable and reasonable."
   ]
  },
  {
   "cell_type": "markdown",
   "metadata": {},
   "source": [
    "### Part (c) Build models using random forests\n",
    "\n",
    "Build random forest models to predict `SalePrice` from the other variables, using the appropriate method from `sklearn.ensemble`. As in Question 1, one parameter to vary is `max_features`, or the number of variables allowed in each split; this regulates the correlation between the trees in the random forest by introducing randomness. Two more relevant parameters are `n_estimators` and `min_samples_leaf`, or number of trees and minimum node size, which regulate variance and bias.\n",
    "\n",
    "Train several random forest models, each time using different values of the parameters. Evaluate each model using 5-fold cross-validation (`sklearn.model_selection.KFold` may be a useful resource to perform k-fold cross-validation). For the sake of time, you may keep `n_estimators` low and constant. First vary `max_features` and create a plot of the cross-validation error versus the value of this parameter. Next vary `min_samples_leaf` and create a similar plot with the values of this parameter. \n",
    "\n",
    "Comment on how cross-validation error relates to `max_features` and `min_samples_leaf`, and how do you imagine it would relate to `n_estimators`? Does this make sense to you?\n",
    "\n",
    "Now find a combination of values for `max_features` and `min_samples_leaf` that approximately minimizes the cross-validation error. \n",
    "\n",
    "_Note: Use mean absolute error (`mae`) rather than mean squared error (`mse`) as the criterion for growing the trees. But then when you evaluate different models, compute the relative absolute error, as described above._"
   ]
  },
  {
   "cell_type": "code",
   "execution_count": null,
   "metadata": {},
   "outputs": [],
   "source": [
    "#Starter Code to fill in and complete\n",
    "from sklearn import model_selection\n",
    "from sklearn import ensemble\n",
    "kf = model_selection.KFold(n_splits=5)\n",
    "x=train_x\n",
    "y=pd.DataFrame(train_y)\n",
    "\n",
    "mae_list=[]\n",
    "for m in range(20, 30): # vary min_samples_leaf\n",
    "\n",
    "    dtr = ensemble.RandomForestRegressor(n_estimators = 9, min_samples_leaf = m, #these are the parameters to vary\n",
    "                                         max_features = 9, criterion = 'mae')\n",
    "    l=[]\n",
    "    for train_index, test_index in kf.split(x):\n",
    "        trainx = x.iloc[train_index,:]\n",
    "        trainy = y.iloc[train_index,:]\n",
    "        regr= dtr.fit(trainx, trainy.values.ravel())\n",
    "        \n",
    "        testx = x.iloc[test_index,:]\n",
    "        testy = y.iloc[test_index,:]\n",
    "        \n",
    "        predy=regr.predict(testx)\n",
    "        testy=testy.astype(float)\n",
    "        \n",
    "        predy=pd.DataFrame(predy)\n",
    "        predy.index=testy.index\n",
    "        predy.columns=['SalePrice']\n",
    "        \n",
    "        mae=(np.sum(abs(predy-testy)/testy))/len(predy)\n",
    "        mae=float(mae)\n",
    "        l.append(mae)\n",
    "    mae_mean=np.mean(l)\n",
    "    mae_list.append(mae_mean)"
   ]
  },
  {
   "cell_type": "markdown",
   "metadata": {},
   "source": [
    "### Part (d) Comparison to Least-Squares Regression\n",
    "\n",
    "Now build a least-squares linear model for the response variable as a function of the predictor variables using the training set. You may wish to use the `sklearn.linear_model.LinearRegression` function, described\n",
    "[here](https://scikit-learn.org/stable/modules/generated/sklearn.linear_model.LinearRegression.html).\n",
    "\n",
    "Experiment with different subsets of the predictor variables included in the linear model. \n",
    "\n",
    "Using the random forest model from Part (c) with the best combination of values for `max_features` and `min_samples_leaf` that you found, compare both the mean squared error and the relative absolute error on the test set from the random forest and linear models.\n",
    "\n",
    "Which model does a better job at prediction? Do you think the model with the higher MSE has higher variance or higher bias, or both?"
   ]
  },
  {
   "cell_type": "code",
   "execution_count": 142,
   "metadata": {},
   "outputs": [
    {
     "data": {
      "text/html": [
       "<table class=\"simpletable\">\n",
       "<caption>OLS Regression Results</caption>\n",
       "<tr>\n",
       "  <th>Dep. Variable:</th>        <td>SalePrice</td>    <th>  R-squared:         </th>  <td>   0.997</td>  \n",
       "</tr>\n",
       "<tr>\n",
       "  <th>Model:</th>                   <td>OLS</td>       <th>  Adj. R-squared:    </th>  <td>   0.997</td>  \n",
       "</tr>\n",
       "<tr>\n",
       "  <th>Method:</th>             <td>Least Squares</td>  <th>  F-statistic:       </th>  <td>2.036e+06</td> \n",
       "</tr>\n",
       "<tr>\n",
       "  <th>Date:</th>             <td>Mon, 07 Oct 2019</td> <th>  Prob (F-statistic):</th>   <td>  0.00</td>   \n",
       "</tr>\n",
       "<tr>\n",
       "  <th>Time:</th>                 <td>23:49:27</td>     <th>  Log-Likelihood:    </th> <td>-8.5420e+05</td>\n",
       "</tr>\n",
       "<tr>\n",
       "  <th>No. Observations:</th>      <td> 77728</td>      <th>  AIC:               </th>  <td>1.708e+06</td> \n",
       "</tr>\n",
       "<tr>\n",
       "  <th>Df Residuals:</th>          <td> 77714</td>      <th>  BIC:               </th>  <td>1.709e+06</td> \n",
       "</tr>\n",
       "<tr>\n",
       "  <th>Df Model:</th>              <td>    13</td>      <th>                     </th>      <td> </td>     \n",
       "</tr>\n",
       "<tr>\n",
       "  <th>Covariance Type:</th>      <td>nonrobust</td>    <th>                     </th>      <td> </td>     \n",
       "</tr>\n",
       "</table>\n",
       "<table class=\"simpletable\">\n",
       "<tr>\n",
       "       <td></td>          <th>coef</th>     <th>std err</th>      <th>t</th>      <th>P>|t|</th>  <th>[0.025</th>    <th>0.975]</th>  \n",
       "</tr>\n",
       "<tr>\n",
       "  <th>Intercept</th>   <td>-1.344e+06</td> <td> 9.96e+04</td> <td>  -13.492</td> <td> 0.000</td> <td>-1.54e+06</td> <td>-1.15e+06</td>\n",
       "</tr>\n",
       "<tr>\n",
       "  <th>Lat</th>         <td> -666.0693</td> <td>   25.398</td> <td>  -26.225</td> <td> 0.000</td> <td> -715.849</td> <td> -616.289</td>\n",
       "</tr>\n",
       "<tr>\n",
       "  <th>Long</th>        <td> -217.9638</td> <td>    6.617</td> <td>  -32.940</td> <td> 0.000</td> <td> -230.933</td> <td> -204.994</td>\n",
       "</tr>\n",
       "<tr>\n",
       "  <th>ListPrice</th>   <td>    0.9820</td> <td>    0.000</td> <td> 3416.277</td> <td> 0.000</td> <td>    0.981</td> <td>    0.983</td>\n",
       "</tr>\n",
       "<tr>\n",
       "  <th>SaleYear</th>    <td>  670.6611</td> <td>   49.471</td> <td>   13.557</td> <td> 0.000</td> <td>  573.699</td> <td>  767.624</td>\n",
       "</tr>\n",
       "<tr>\n",
       "  <th>Bathroom</th>    <td> -317.6399</td> <td>  100.012</td> <td>   -3.176</td> <td> 0.001</td> <td> -513.663</td> <td> -121.616</td>\n",
       "</tr>\n",
       "<tr>\n",
       "  <th>Bedroom</th>     <td> -375.7231</td> <td>   71.974</td> <td>   -5.220</td> <td> 0.000</td> <td> -516.792</td> <td> -234.655</td>\n",
       "</tr>\n",
       "<tr>\n",
       "  <th>FinishSqFt</th>  <td>   -1.6260</td> <td>    0.130</td> <td>  -12.553</td> <td> 0.000</td> <td>   -1.880</td> <td>   -1.372</td>\n",
       "</tr>\n",
       "<tr>\n",
       "  <th>LotSqFt</th>     <td>   -0.0486</td> <td>    0.016</td> <td>   -2.975</td> <td> 0.003</td> <td>   -0.081</td> <td>   -0.017</td>\n",
       "</tr>\n",
       "<tr>\n",
       "  <th>BuildDecade</th> <td>   -0.1262</td> <td>    0.132</td> <td>   -0.956</td> <td> 0.339</td> <td>   -0.385</td> <td>    0.133</td>\n",
       "</tr>\n",
       "<tr>\n",
       "  <th>MajorRenov</th>  <td>    0.4031</td> <td>    0.090</td> <td>    4.459</td> <td> 0.000</td> <td>    0.226</td> <td>    0.580</td>\n",
       "</tr>\n",
       "<tr>\n",
       "  <th>MSA</th>         <td> 1008.0029</td> <td>   70.268</td> <td>   14.345</td> <td> 0.000</td> <td>  870.278</td> <td> 1145.727</td>\n",
       "</tr>\n",
       "<tr>\n",
       "  <th>City1</th>       <td>-1481.9504</td> <td>  257.999</td> <td>   -5.744</td> <td> 0.000</td> <td>-1987.627</td> <td> -976.274</td>\n",
       "</tr>\n",
       "<tr>\n",
       "  <th>HighSchool1</th> <td>  215.0920</td> <td>  152.220</td> <td>    1.413</td> <td> 0.158</td> <td>  -83.259</td> <td>  513.443</td>\n",
       "</tr>\n",
       "</table>\n",
       "<table class=\"simpletable\">\n",
       "<tr>\n",
       "  <th>Omnibus:</th>       <td>10955.504</td> <th>  Durbin-Watson:     </th> <td>   2.008</td> \n",
       "</tr>\n",
       "<tr>\n",
       "  <th>Prob(Omnibus):</th>  <td> 0.000</td>   <th>  Jarque-Bera (JB):  </th> <td>70273.597</td>\n",
       "</tr>\n",
       "<tr>\n",
       "  <th>Skew:</th>           <td>-0.516</td>   <th>  Prob(JB):          </th> <td>    0.00</td> \n",
       "</tr>\n",
       "<tr>\n",
       "  <th>Kurtosis:</th>       <td> 7.543</td>   <th>  Cond. No.          </th> <td>9.72e+08</td> \n",
       "</tr>\n",
       "</table><br/><br/>Warnings:<br/>[1] Standard Errors assume that the covariance matrix of the errors is correctly specified.<br/>[2] The condition number is large, 9.72e+08. This might indicate that there are<br/>strong multicollinearity or other numerical problems."
      ],
      "text/plain": [
       "<class 'statsmodels.iolib.summary.Summary'>\n",
       "\"\"\"\n",
       "                            OLS Regression Results                            \n",
       "==============================================================================\n",
       "Dep. Variable:              SalePrice   R-squared:                       0.997\n",
       "Model:                            OLS   Adj. R-squared:                  0.997\n",
       "Method:                 Least Squares   F-statistic:                 2.036e+06\n",
       "Date:                Mon, 07 Oct 2019   Prob (F-statistic):               0.00\n",
       "Time:                        23:49:27   Log-Likelihood:            -8.5420e+05\n",
       "No. Observations:               77728   AIC:                         1.708e+06\n",
       "Df Residuals:                   77714   BIC:                         1.709e+06\n",
       "Df Model:                          13                                         \n",
       "Covariance Type:            nonrobust                                         \n",
       "===============================================================================\n",
       "                  coef    std err          t      P>|t|      [0.025      0.975]\n",
       "-------------------------------------------------------------------------------\n",
       "Intercept   -1.344e+06   9.96e+04    -13.492      0.000   -1.54e+06   -1.15e+06\n",
       "Lat          -666.0693     25.398    -26.225      0.000    -715.849    -616.289\n",
       "Long         -217.9638      6.617    -32.940      0.000    -230.933    -204.994\n",
       "ListPrice       0.9820      0.000   3416.277      0.000       0.981       0.983\n",
       "SaleYear      670.6611     49.471     13.557      0.000     573.699     767.624\n",
       "Bathroom     -317.6399    100.012     -3.176      0.001    -513.663    -121.616\n",
       "Bedroom      -375.7231     71.974     -5.220      0.000    -516.792    -234.655\n",
       "FinishSqFt     -1.6260      0.130    -12.553      0.000      -1.880      -1.372\n",
       "LotSqFt        -0.0486      0.016     -2.975      0.003      -0.081      -0.017\n",
       "BuildDecade    -0.1262      0.132     -0.956      0.339      -0.385       0.133\n",
       "MajorRenov      0.4031      0.090      4.459      0.000       0.226       0.580\n",
       "MSA          1008.0029     70.268     14.345      0.000     870.278    1145.727\n",
       "City1       -1481.9504    257.999     -5.744      0.000   -1987.627    -976.274\n",
       "HighSchool1   215.0920    152.220      1.413      0.158     -83.259     513.443\n",
       "==============================================================================\n",
       "Omnibus:                    10955.504   Durbin-Watson:                   2.008\n",
       "Prob(Omnibus):                  0.000   Jarque-Bera (JB):            70273.597\n",
       "Skew:                          -0.516   Prob(JB):                         0.00\n",
       "Kurtosis:                       7.543   Cond. No.                     9.72e+08\n",
       "==============================================================================\n",
       "\n",
       "Warnings:\n",
       "[1] Standard Errors assume that the covariance matrix of the errors is correctly specified.\n",
       "[2] The condition number is large, 9.72e+08. This might indicate that there are\n",
       "strong multicollinearity or other numerical problems.\n",
       "\"\"\""
      ]
     },
     "execution_count": 142,
     "metadata": {},
     "output_type": "execute_result"
    }
   ],
   "source": [
    "import statsmodels.api as sm\n",
    "import statsmodels.formula.api as smf\n",
    "r1 = smf.ols('SalePrice ~ Lat+Long+ListPrice+SaleYear+Bathroom+Bedroom+FinishSqFt+LotSqFt+BuildDecade+MajorRenov+MSA+City1+HighSchool1', data=train).fit()\n",
    "r1.summary()\n",
    "#p value of builddecade and highschool are >0.05, remove these predictors"
   ]
  },
  {
   "cell_type": "code",
   "execution_count": 143,
   "metadata": {},
   "outputs": [
    {
     "data": {
      "text/html": [
       "<table class=\"simpletable\">\n",
       "<caption>OLS Regression Results</caption>\n",
       "<tr>\n",
       "  <th>Dep. Variable:</th>        <td>SalePrice</td>    <th>  R-squared:         </th>  <td>   0.997</td>  \n",
       "</tr>\n",
       "<tr>\n",
       "  <th>Model:</th>                   <td>OLS</td>       <th>  Adj. R-squared:    </th>  <td>   0.997</td>  \n",
       "</tr>\n",
       "<tr>\n",
       "  <th>Method:</th>             <td>Least Squares</td>  <th>  F-statistic:       </th>  <td>2.407e+06</td> \n",
       "</tr>\n",
       "<tr>\n",
       "  <th>Date:</th>             <td>Mon, 07 Oct 2019</td> <th>  Prob (F-statistic):</th>   <td>  0.00</td>   \n",
       "</tr>\n",
       "<tr>\n",
       "  <th>Time:</th>                 <td>23:50:31</td>     <th>  Log-Likelihood:    </th> <td>-8.5420e+05</td>\n",
       "</tr>\n",
       "<tr>\n",
       "  <th>No. Observations:</th>      <td> 77728</td>      <th>  AIC:               </th>  <td>1.708e+06</td> \n",
       "</tr>\n",
       "<tr>\n",
       "  <th>Df Residuals:</th>          <td> 77716</td>      <th>  BIC:               </th>  <td>1.709e+06</td> \n",
       "</tr>\n",
       "<tr>\n",
       "  <th>Df Model:</th>              <td>    11</td>      <th>                     </th>      <td> </td>     \n",
       "</tr>\n",
       "<tr>\n",
       "  <th>Covariance Type:</th>      <td>nonrobust</td>    <th>                     </th>      <td> </td>     \n",
       "</tr>\n",
       "</table>\n",
       "<table class=\"simpletable\">\n",
       "<tr>\n",
       "       <td></td>         <th>coef</th>     <th>std err</th>      <th>t</th>      <th>P>|t|</th>  <th>[0.025</th>    <th>0.975]</th>  \n",
       "</tr>\n",
       "<tr>\n",
       "  <th>Intercept</th>  <td>-1.343e+06</td> <td> 9.96e+04</td> <td>  -13.491</td> <td> 0.000</td> <td>-1.54e+06</td> <td>-1.15e+06</td>\n",
       "</tr>\n",
       "<tr>\n",
       "  <th>Lat</th>        <td> -668.4773</td> <td>   25.124</td> <td>  -26.608</td> <td> 0.000</td> <td> -717.719</td> <td> -619.235</td>\n",
       "</tr>\n",
       "<tr>\n",
       "  <th>Long</th>       <td> -219.0449</td> <td>    6.556</td> <td>  -33.410</td> <td> 0.000</td> <td> -231.895</td> <td> -206.195</td>\n",
       "</tr>\n",
       "<tr>\n",
       "  <th>ListPrice</th>  <td>    0.9820</td> <td>    0.000</td> <td> 3418.919</td> <td> 0.000</td> <td>    0.981</td> <td>    0.983</td>\n",
       "</tr>\n",
       "<tr>\n",
       "  <th>SaleYear</th>   <td>  670.5649</td> <td>   49.470</td> <td>   13.555</td> <td> 0.000</td> <td>  573.604</td> <td>  767.526</td>\n",
       "</tr>\n",
       "<tr>\n",
       "  <th>Bathroom</th>   <td> -320.7317</td> <td>   99.933</td> <td>   -3.209</td> <td> 0.001</td> <td> -516.599</td> <td> -124.864</td>\n",
       "</tr>\n",
       "<tr>\n",
       "  <th>Bedroom</th>    <td> -377.9935</td> <td>   71.951</td> <td>   -5.253</td> <td> 0.000</td> <td> -519.017</td> <td> -236.970</td>\n",
       "</tr>\n",
       "<tr>\n",
       "  <th>FinishSqFt</th> <td>   -1.6266</td> <td>    0.130</td> <td>  -12.560</td> <td> 0.000</td> <td>   -1.880</td> <td>   -1.373</td>\n",
       "</tr>\n",
       "<tr>\n",
       "  <th>LotSqFt</th>    <td>   -0.0488</td> <td>    0.016</td> <td>   -2.986</td> <td> 0.003</td> <td>   -0.081</td> <td>   -0.017</td>\n",
       "</tr>\n",
       "<tr>\n",
       "  <th>MajorRenov</th> <td>    0.4009</td> <td>    0.090</td> <td>    4.438</td> <td> 0.000</td> <td>    0.224</td> <td>    0.578</td>\n",
       "</tr>\n",
       "<tr>\n",
       "  <th>MSA</th>        <td>  967.7343</td> <td>   64.129</td> <td>   15.090</td> <td> 0.000</td> <td>  842.041</td> <td> 1093.427</td>\n",
       "</tr>\n",
       "<tr>\n",
       "  <th>City1</th>      <td>-1334.7862</td> <td>  234.891</td> <td>   -5.683</td> <td> 0.000</td> <td>-1795.171</td> <td> -874.401</td>\n",
       "</tr>\n",
       "</table>\n",
       "<table class=\"simpletable\">\n",
       "<tr>\n",
       "  <th>Omnibus:</th>       <td>10950.046</td> <th>  Durbin-Watson:     </th> <td>   2.008</td> \n",
       "</tr>\n",
       "<tr>\n",
       "  <th>Prob(Omnibus):</th>  <td> 0.000</td>   <th>  Jarque-Bera (JB):  </th> <td>70246.738</td>\n",
       "</tr>\n",
       "<tr>\n",
       "  <th>Skew:</th>           <td>-0.515</td>   <th>  Prob(JB):          </th> <td>    0.00</td> \n",
       "</tr>\n",
       "<tr>\n",
       "  <th>Kurtosis:</th>       <td> 7.542</td>   <th>  Cond. No.          </th> <td>9.72e+08</td> \n",
       "</tr>\n",
       "</table><br/><br/>Warnings:<br/>[1] Standard Errors assume that the covariance matrix of the errors is correctly specified.<br/>[2] The condition number is large, 9.72e+08. This might indicate that there are<br/>strong multicollinearity or other numerical problems."
      ],
      "text/plain": [
       "<class 'statsmodels.iolib.summary.Summary'>\n",
       "\"\"\"\n",
       "                            OLS Regression Results                            \n",
       "==============================================================================\n",
       "Dep. Variable:              SalePrice   R-squared:                       0.997\n",
       "Model:                            OLS   Adj. R-squared:                  0.997\n",
       "Method:                 Least Squares   F-statistic:                 2.407e+06\n",
       "Date:                Mon, 07 Oct 2019   Prob (F-statistic):               0.00\n",
       "Time:                        23:50:31   Log-Likelihood:            -8.5420e+05\n",
       "No. Observations:               77728   AIC:                         1.708e+06\n",
       "Df Residuals:                   77716   BIC:                         1.709e+06\n",
       "Df Model:                          11                                         \n",
       "Covariance Type:            nonrobust                                         \n",
       "==============================================================================\n",
       "                 coef    std err          t      P>|t|      [0.025      0.975]\n",
       "------------------------------------------------------------------------------\n",
       "Intercept  -1.343e+06   9.96e+04    -13.491      0.000   -1.54e+06   -1.15e+06\n",
       "Lat         -668.4773     25.124    -26.608      0.000    -717.719    -619.235\n",
       "Long        -219.0449      6.556    -33.410      0.000    -231.895    -206.195\n",
       "ListPrice      0.9820      0.000   3418.919      0.000       0.981       0.983\n",
       "SaleYear     670.5649     49.470     13.555      0.000     573.604     767.526\n",
       "Bathroom    -320.7317     99.933     -3.209      0.001    -516.599    -124.864\n",
       "Bedroom     -377.9935     71.951     -5.253      0.000    -519.017    -236.970\n",
       "FinishSqFt    -1.6266      0.130    -12.560      0.000      -1.880      -1.373\n",
       "LotSqFt       -0.0488      0.016     -2.986      0.003      -0.081      -0.017\n",
       "MajorRenov     0.4009      0.090      4.438      0.000       0.224       0.578\n",
       "MSA          967.7343     64.129     15.090      0.000     842.041    1093.427\n",
       "City1      -1334.7862    234.891     -5.683      0.000   -1795.171    -874.401\n",
       "==============================================================================\n",
       "Omnibus:                    10950.046   Durbin-Watson:                   2.008\n",
       "Prob(Omnibus):                  0.000   Jarque-Bera (JB):            70246.738\n",
       "Skew:                          -0.515   Prob(JB):                         0.00\n",
       "Kurtosis:                       7.542   Cond. No.                     9.72e+08\n",
       "==============================================================================\n",
       "\n",
       "Warnings:\n",
       "[1] Standard Errors assume that the covariance matrix of the errors is correctly specified.\n",
       "[2] The condition number is large, 9.72e+08. This might indicate that there are\n",
       "strong multicollinearity or other numerical problems.\n",
       "\"\"\""
      ]
     },
     "execution_count": 143,
     "metadata": {},
     "output_type": "execute_result"
    }
   ],
   "source": [
    "r2 = smf.ols('SalePrice ~ Lat+Long+ListPrice+SaleYear+Bathroom+Bedroom+FinishSqFt+LotSqFt+MajorRenov+MSA+City1', data=train).fit()\n",
    "r2.summary()"
   ]
  },
  {
   "cell_type": "code",
   "execution_count": 131,
   "metadata": {},
   "outputs": [
    {
     "data": {
      "text/plain": [
       "228195172.82934928"
      ]
     },
     "execution_count": 131,
     "metadata": {},
     "output_type": "execute_result"
    }
   ],
   "source": [
    "mae=np.sum(abs(pred_y-test_y)/test_y)/len(pred_y)\n",
    "mse=mean_squared_error(test_y, pred_y)"
   ]
  },
  {
   "cell_type": "markdown",
   "metadata": {},
   "source": [
    "`Your Markdown Here`"
   ]
  },
  {
   "cell_type": "markdown",
   "metadata": {},
   "source": [
    "### Part (e) Predicting SalePrice\n",
    "\n",
    "Read in the file \"zillow_part_e.csv\" which has 7000 houses with all the same variables as the training and testing set, except that the SalePrice variable is missing. \n",
    "\n",
    "Construct the best model you can on the training data. You can use random forests, or you may try to use gradient tree boosting, which is also available in sklearn.ensemble.  \n",
    "\n",
    "Using your best model, predict the sale prices for these 7000 houses. Students will be assigned extra credit according to which decile they are in for the predictive accuracy (relative absolute error). (The top 10% will receive 10 points extra credit, the next 10% 9 points, and so on.) \n",
    "\n",
    "Save your predictions in a file called \"zillow_predictions.csv\" and submit this file with your homework. Your csv file should only contain a single column of predictions, without a header, where the $i$-th row corresponds to the predicted sale price for the $i$-th row of the dataset read in from \"zillow_part_e.csv\", excluding the header.\n"
   ]
  },
  {
   "cell_type": "code",
   "execution_count": null,
   "metadata": {},
   "outputs": [],
   "source": [
    "# Your Code Here\n",
    "newdata = pd.read_csv(\"zillow_part_e.csv\")\n"
   ]
  }
 ],
 "metadata": {
  "kernelspec": {
   "display_name": "Python 3",
   "language": "python",
   "name": "python3"
  },
  "language_info": {
   "codemirror_mode": {
    "name": "ipython",
    "version": 3
   },
   "file_extension": ".py",
   "mimetype": "text/x-python",
   "name": "python",
   "nbconvert_exporter": "python",
   "pygments_lexer": "ipython3",
   "version": "3.7.3"
  }
 },
 "nbformat": 4,
 "nbformat_minor": 4
}
